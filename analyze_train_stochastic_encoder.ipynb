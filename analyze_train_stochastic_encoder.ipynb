{
 "cells": [
  {
   "cell_type": "code",
   "execution_count": 1,
   "id": "f0e7666f",
   "metadata": {
    "scrolled": true
   },
   "outputs": [
    {
     "name": "stderr",
     "output_type": "stream",
     "text": [
      "2022-12-18 16:15:16.832412: E tensorflow/stream_executor/cuda/cuda_blas.cc:2981] Unable to register cuBLAS factory: Attempting to register factory for plugin cuBLAS when one has already been registered\n",
      "2022-12-18 16:15:17.371475: W tensorflow/stream_executor/platform/default/dso_loader.cc:64] Could not load dynamic library 'libnvinfer.so.7'; dlerror: libnvinfer.so.7: cannot open shared object file: No such file or directory; LD_LIBRARY_PATH: /usr/local/cuda-11.7/lib64:/home/katie/.mujoco/mujoco210/bin:/home/katie/.mujoco/mjpro150/bin:/usr/lib/nvidia\n",
      "2022-12-18 16:15:17.371545: W tensorflow/stream_executor/platform/default/dso_loader.cc:64] Could not load dynamic library 'libnvinfer_plugin.so.7'; dlerror: libnvinfer_plugin.so.7: cannot open shared object file: No such file or directory; LD_LIBRARY_PATH: /usr/local/cuda-11.7/lib64:/home/katie/.mujoco/mujoco210/bin:/home/katie/.mujoco/mjpro150/bin:/usr/lib/nvidia\n",
      "2022-12-18 16:15:17.371552: W tensorflow/compiler/tf2tensorrt/utils/py_utils.cc:38] TF-TRT Warning: Cannot dlopen some TensorRT libraries. If you would like to use Nvidia GPU with TensorRT, please make sure the missing libraries mentioned above are installed properly.\n",
      "/home/katie/miniconda3/envs/jaxrl5/lib/python3.10/site-packages/tqdm/auto.py:22: TqdmWarning: IProgress not found. Please update jupyter and ipywidgets. See https://ipywidgets.readthedocs.io/en/stable/user_install.html\n",
      "  from .autonotebook import tqdm as notebook_tqdm\n"
     ]
    }
   ],
   "source": [
    "import matplotlib.pyplot as plt\n",
    "from train_stochastic_encoder import *\n",
    "import numpy as np\n",
    "import jax.numpy as jnp\n",
    "import jax"
   ]
  },
  {
   "cell_type": "code",
   "execution_count": 2,
   "id": "dfb393ee",
   "metadata": {},
   "outputs": [
    {
     "name": "stderr",
     "output_type": "stream",
     "text": [
      "100%|██████████████████████████████████████████████████████████████████████| 468/468 [00:03<00:00, 129.94it/s]\n"
     ]
    },
    {
     "name": "stdout",
     "output_type": "stream",
     "text": [
      "train epoch: 1, loss: 0.4774\n",
      "0 loss : 0.2040, return: 0.4329, robust return 0.4250, q std: 0.0588\n",
      "15 loss : 0.2995, return: 0.3862, robust return 0.3851, q std: 0.0588\n",
      "30 loss : 0.4768, return: 0.3184, robust return 0.3312, q std: 0.0510\n",
      "45 loss : 0.6795, return: 0.2587, robust return 0.2815, q std: 0.0436\n",
      "60 loss : 0.8133, return: 0.2263, robust return 0.2547, q std: 0.0383\n",
      "75 loss : 0.8457, return: 0.2050, robust return 0.2408, q std: 0.0358\n"
     ]
    },
    {
     "name": "stderr",
     "output_type": "stream",
     "text": [
      "100%|██████████████████████████████████████████████████████████████████████| 468/468 [00:01<00:00, 427.47it/s]\n"
     ]
    },
    {
     "name": "stdout",
     "output_type": "stream",
     "text": [
      "train epoch: 2, loss: 0.1509\n",
      "0 loss : 0.1167, return: 0.5665, robust return 0.5632, q std: 0.0176\n",
      "15 loss : 0.1910, return: 0.5061, robust return 0.5044, q std: 0.0189\n",
      "30 loss : 0.3788, return: 0.3215, robust return 0.3297, q std: 0.0178\n",
      "45 loss : 0.6233, return: 0.0847, robust return 0.1067, q std: 0.0162\n",
      "60 loss : 0.7985, return: -0.0448, robust return -0.0249, q std: 0.0141\n",
      "75 loss : 0.8561, return: -0.0600, robust return -0.0404, q std: 0.0128\n"
     ]
    },
    {
     "name": "stderr",
     "output_type": "stream",
     "text": [
      "100%|██████████████████████████████████████████████████████████████████████| 468/468 [00:01<00:00, 424.35it/s]\n"
     ]
    },
    {
     "name": "stdout",
     "output_type": "stream",
     "text": [
      "train epoch: 3, loss: 0.1020\n",
      "0 loss : 0.0888, return: 0.6105, robust return 0.6084, q std: 0.0094\n",
      "15 loss : 0.1492, return: 0.5497, robust return 0.5460, q std: 0.0100\n",
      "30 loss : 0.3315, return: 0.3469, robust return 0.3505, q std: 0.0094\n",
      "45 loss : 0.5865, return: 0.0856, robust return 0.0950, q std: 0.0085\n",
      "60 loss : 0.7735, return: -0.0730, robust return -0.0586, q std: 0.0075\n",
      "75 loss : 0.8372, return: -0.1102, robust return -0.0947, q std: 0.0070\n"
     ]
    },
    {
     "name": "stderr",
     "output_type": "stream",
     "text": [
      "100%|██████████████████████████████████████████████████████████████████████| 468/468 [00:01<00:00, 429.66it/s]\n"
     ]
    },
    {
     "name": "stdout",
     "output_type": "stream",
     "text": [
      "train epoch: 4, loss: 0.0805\n",
      "0 loss : 0.0732, return: 0.6406, robust return 0.6390, q std: 0.0067\n",
      "15 loss : 0.1210, return: 0.5822, robust return 0.5804, q std: 0.0071\n",
      "30 loss : 0.3004, return: 0.3663, robust return 0.3710, q std: 0.0067\n",
      "45 loss : 0.5506, return: 0.0364, robust return 0.0611, q std: 0.0063\n",
      "60 loss : 0.7389, return: -0.1887, robust return -0.1684, q std: 0.0058\n",
      "75 loss : 0.8041, return: -0.2461, robust return -0.2303, q std: 0.0055\n"
     ]
    },
    {
     "name": "stderr",
     "output_type": "stream",
     "text": [
      "100%|██████████████████████████████████████████████████████████████████████| 468/468 [00:01<00:00, 426.23it/s]\n"
     ]
    },
    {
     "name": "stdout",
     "output_type": "stream",
     "text": [
      "train epoch: 5, loss: 0.0678\n",
      "0 loss : 0.0658, return: 0.6799, robust return 0.6782, q std: 0.0049\n",
      "15 loss : 0.1091, return: 0.6062, robust return 0.6051, q std: 0.0053\n",
      "30 loss : 0.2848, return: 0.2799, robust return 0.2852, q std: 0.0051\n",
      "45 loss : 0.5624, return: -0.2217, robust return -0.2039, q std: 0.0048\n",
      "60 loss : 0.7728, return: -0.4856, robust return -0.4719, q std: 0.0045\n",
      "75 loss : 0.8468, return: -0.5053, robust return -0.4879, q std: 0.0043\n"
     ]
    },
    {
     "name": "stderr",
     "output_type": "stream",
     "text": [
      "100%|██████████████████████████████████████████████████████████████████████| 468/468 [00:01<00:00, 428.66it/s]\n"
     ]
    },
    {
     "name": "stdout",
     "output_type": "stream",
     "text": [
      "train epoch: 6, loss: 0.0582\n",
      "0 loss : 0.0581, return: 0.7051, robust return 0.7055, q std: 0.0042\n",
      "15 loss : 0.0968, return: 0.6422, robust return 0.6437, q std: 0.0043\n",
      "30 loss : 0.2638, return: 0.3261, robust return 0.3320, q std: 0.0041\n",
      "45 loss : 0.5359, return: -0.1974, robust return -0.1820, q std: 0.0037\n",
      "60 loss : 0.7378, return: -0.5385, robust return -0.5224, q std: 0.0035\n",
      "75 loss : 0.8138, return: -0.5522, robust return -0.5344, q std: 0.0034\n"
     ]
    },
    {
     "name": "stderr",
     "output_type": "stream",
     "text": [
      "100%|██████████████████████████████████████████████████████████████████████| 468/468 [00:01<00:00, 435.20it/s]\n"
     ]
    },
    {
     "name": "stdout",
     "output_type": "stream",
     "text": [
      "train epoch: 7, loss: 0.0514\n",
      "0 loss : 0.0514, return: 0.7267, robust return 0.7278, q std: 0.0036\n",
      "15 loss : 0.0893, return: 0.6603, robust return 0.6619, q std: 0.0038\n",
      "30 loss : 0.2507, return: 0.3303, robust return 0.3335, q std: 0.0037\n",
      "45 loss : 0.5347, return: -0.2418, robust return -0.2254, q std: 0.0035\n",
      "60 loss : 0.7509, return: -0.6688, robust return -0.6397, q std: 0.0033\n",
      "75 loss : 0.8351, return: -0.7350, robust return -0.7017, q std: 0.0032\n"
     ]
    },
    {
     "name": "stderr",
     "output_type": "stream",
     "text": [
      "100%|██████████████████████████████████████████████████████████████████████| 468/468 [00:01<00:00, 425.79it/s]\n"
     ]
    },
    {
     "name": "stdout",
     "output_type": "stream",
     "text": [
      "train epoch: 8, loss: 0.0454\n",
      "0 loss : 0.0500, return: 0.7251, robust return 0.7257, q std: 0.0031\n",
      "15 loss : 0.0921, return: 0.6438, robust return 0.6451, q std: 0.0032\n",
      "30 loss : 0.2562, return: 0.2717, robust return 0.2774, q std: 0.0031\n",
      "45 loss : 0.5258, return: -0.3487, robust return -0.3337, q std: 0.0030\n",
      "60 loss : 0.7339, return: -0.7693, robust return -0.7454, q std: 0.0028\n",
      "75 loss : 0.8239, return: -0.8912, robust return -0.8590, q std: 0.0027\n"
     ]
    },
    {
     "name": "stderr",
     "output_type": "stream",
     "text": [
      "100%|██████████████████████████████████████████████████████████████████████| 468/468 [00:01<00:00, 431.68it/s]\n"
     ]
    },
    {
     "name": "stdout",
     "output_type": "stream",
     "text": [
      "train epoch: 9, loss: 0.0407\n",
      "0 loss : 0.0476, return: 0.7464, robust return 0.7463, q std: 0.0024\n",
      "15 loss : 0.0833, return: 0.6861, robust return 0.6879, q std: 0.0026\n",
      "30 loss : 0.2311, return: 0.3632, robust return 0.3678, q std: 0.0025\n",
      "45 loss : 0.5051, return: -0.2899, robust return -0.2779, q std: 0.0024\n",
      "60 loss : 0.7338, return: -0.7775, robust return -0.7568, q std: 0.0023\n",
      "75 loss : 0.8328, return: -0.9299, robust return -0.9060, q std: 0.0022\n"
     ]
    },
    {
     "name": "stderr",
     "output_type": "stream",
     "text": [
      "100%|██████████████████████████████████████████████████████████████████████| 468/468 [00:01<00:00, 427.43it/s]\n"
     ]
    },
    {
     "name": "stdout",
     "output_type": "stream",
     "text": [
      "train epoch: 10, loss: 0.0375\n",
      "0 loss : 0.0444, return: 0.7494, robust return 0.7502, q std: 0.0022\n",
      "15 loss : 0.0763, return: 0.6884, robust return 0.6885, q std: 0.0022\n",
      "30 loss : 0.2350, return: 0.3682, robust return 0.3691, q std: 0.0021\n",
      "45 loss : 0.5240, return: -0.2792, robust return -0.2709, q std: 0.0019\n",
      "60 loss : 0.7483, return: -0.7675, robust return -0.7533, q std: 0.0017\n",
      "75 loss : 0.8295, return: -0.8920, robust return -0.8751, q std: 0.0016\n"
     ]
    },
    {
     "name": "stderr",
     "output_type": "stream",
     "text": [
      "100%|██████████████████████████████████████████████████████████████████████| 468/468 [00:02<00:00, 219.88it/s]\n"
     ]
    },
    {
     "name": "stdout",
     "output_type": "stream",
     "text": [
      "train epoch: 1, loss: 0.6206\n",
      "0 loss : 0.1935, return: 0.3750, robust return 0.3787, q std: 0.7488\n",
      "15 loss : 0.2461, return: 0.3606, robust return 0.3679, q std: 0.7599\n",
      "30 loss : 0.4008, return: 0.3379, robust return 0.3442, q std: 0.7749\n",
      "45 loss : 0.6163, return: 0.2975, robust return 0.3075, q std: 0.7834\n",
      "60 loss : 0.7746, return: 0.2759, robust return 0.2794, q std: 0.7844\n",
      "75 loss : 0.8384, return: 0.2680, robust return 0.2696, q std: 0.7824\n"
     ]
    },
    {
     "name": "stderr",
     "output_type": "stream",
     "text": [
      "100%|██████████████████████████████████████████████████████████████████████| 468/468 [00:01<00:00, 412.16it/s]\n"
     ]
    },
    {
     "name": "stdout",
     "output_type": "stream",
     "text": [
      "train epoch: 2, loss: 0.2927\n",
      "0 loss : 0.1140, return: 0.4746, robust return 0.4249, q std: 0.7651\n",
      "15 loss : 0.1584, return: 0.4482, robust return 0.4045, q std: 0.7684\n",
      "30 loss : 0.3005, return: 0.3683, robust return 0.3715, q std: 0.7742\n",
      "45 loss : 0.5167, return: 0.2260, robust return 0.3314, q std: 0.7792\n",
      "60 loss : 0.7127, return: 0.1128, robust return 0.2957, q std: 0.7794\n",
      "75 loss : 0.8011, return: 0.0543, robust return 0.2796, q std: 0.7805\n"
     ]
    },
    {
     "name": "stderr",
     "output_type": "stream",
     "text": [
      "100%|██████████████████████████████████████████████████████████████████████| 468/468 [00:01<00:00, 412.04it/s]\n"
     ]
    },
    {
     "name": "stdout",
     "output_type": "stream",
     "text": [
      "train epoch: 3, loss: 0.2583\n",
      "0 loss : 0.0918, return: 0.5560, robust return 0.4678, q std: 0.7588\n",
      "15 loss : 0.1331, return: 0.5154, robust return 0.4439, q std: 0.7604\n",
      "30 loss : 0.2826, return: 0.3620, robust return 0.3833, q std: 0.7633\n",
      "45 loss : 0.5040, return: 0.1221, robust return 0.3167, q std: 0.7654\n",
      "60 loss : 0.6967, return: -0.0616, robust return 0.2670, q std: 0.7650\n",
      "75 loss : 0.7737, return: -0.1155, robust return 0.2540, q std: 0.7643\n"
     ]
    },
    {
     "name": "stderr",
     "output_type": "stream",
     "text": [
      "100%|██████████████████████████████████████████████████████████████████████| 468/468 [00:01<00:00, 423.55it/s]\n"
     ]
    },
    {
     "name": "stdout",
     "output_type": "stream",
     "text": [
      "train epoch: 4, loss: 0.2447\n",
      "0 loss : 0.0793, return: 0.5650, robust return 0.4940, q std: 0.7629\n",
      "15 loss : 0.1161, return: 0.5275, robust return 0.4669, q std: 0.7638\n",
      "30 loss : 0.2618, return: 0.3648, robust return 0.3942, q std: 0.7657\n",
      "45 loss : 0.4815, return: 0.1113, robust return 0.3089, q std: 0.7674\n",
      "60 loss : 0.6849, return: -0.1029, robust return 0.2400, q std: 0.7672\n",
      "75 loss : 0.7650, return: -0.1734, robust return 0.2278, q std: 0.7670\n"
     ]
    },
    {
     "name": "stderr",
     "output_type": "stream",
     "text": [
      "100%|██████████████████████████████████████████████████████████████████████| 468/468 [00:01<00:00, 417.67it/s]\n"
     ]
    },
    {
     "name": "stdout",
     "output_type": "stream",
     "text": [
      "train epoch: 5, loss: 0.2360\n",
      "0 loss : 0.0694, return: 0.5898, robust return 0.5471, q std: 0.7657\n",
      "15 loss : 0.1025, return: 0.5517, robust return 0.5217, q std: 0.7664\n",
      "30 loss : 0.2445, return: 0.3907, robust return 0.4371, q std: 0.7676\n",
      "45 loss : 0.4858, return: 0.1079, robust return 0.3075, q std: 0.7663\n",
      "60 loss : 0.7253, return: -0.1765, robust return 0.1933, q std: 0.7640\n",
      "75 loss : 0.8279, return: -0.2937, robust return 0.1407, q std: 0.7636\n"
     ]
    },
    {
     "name": "stderr",
     "output_type": "stream",
     "text": [
      "100%|██████████████████████████████████████████████████████████████████████| 468/468 [00:01<00:00, 413.49it/s]\n"
     ]
    },
    {
     "name": "stdout",
     "output_type": "stream",
     "text": [
      "train epoch: 6, loss: 0.2297\n",
      "0 loss : 0.0697, return: 0.5998, robust return 0.5334, q std: 0.7627\n",
      "15 loss : 0.1080, return: 0.5460, robust return 0.5048, q std: 0.7643\n",
      "30 loss : 0.2650, return: 0.3125, robust return 0.4201, q std: 0.7638\n",
      "45 loss : 0.5055, return: -0.0537, robust return 0.3125, q std: 0.7614\n",
      "60 loss : 0.7151, return: -0.3430, robust return 0.2207, q std: 0.7608\n",
      "75 loss : 0.7981, return: -0.4164, robust return 0.1879, q std: 0.7608\n"
     ]
    },
    {
     "name": "stderr",
     "output_type": "stream",
     "text": [
      "100%|██████████████████████████████████████████████████████████████████████| 468/468 [00:01<00:00, 425.03it/s]\n"
     ]
    },
    {
     "name": "stdout",
     "output_type": "stream",
     "text": [
      "train epoch: 7, loss: 0.2254\n",
      "0 loss : 0.0674, return: 0.6015, robust return 0.5588, q std: 0.7585\n",
      "15 loss : 0.1045, return: 0.5442, robust return 0.5287, q std: 0.7606\n",
      "30 loss : 0.2507, return: 0.3149, robust return 0.4394, q std: 0.7625\n",
      "45 loss : 0.4717, return: -0.0666, robust return 0.3239, q std: 0.7621\n",
      "60 loss : 0.6837, return: -0.4301, robust return 0.2339, q std: 0.7602\n",
      "75 loss : 0.7990, return: -0.5810, robust return 0.1828, q std: 0.7612\n"
     ]
    },
    {
     "name": "stderr",
     "output_type": "stream",
     "text": [
      "100%|██████████████████████████████████████████████████████████████████████| 468/468 [00:01<00:00, 416.26it/s]\n"
     ]
    },
    {
     "name": "stdout",
     "output_type": "stream",
     "text": [
      "train epoch: 8, loss: 0.2212\n",
      "0 loss : 0.0576, return: 0.6276, robust return 0.5794, q std: 0.7601\n",
      "15 loss : 0.0923, return: 0.5758, robust return 0.5493, q std: 0.7594\n",
      "30 loss : 0.2481, return: 0.3215, robust return 0.4331, q std: 0.7597\n",
      "45 loss : 0.4720, return: -0.0860, robust return 0.2710, q std: 0.7589\n",
      "60 loss : 0.6861, return: -0.4452, robust return 0.1317, q std: 0.7561\n",
      "75 loss : 0.7969, return: -0.5543, robust return 0.0759, q std: 0.7543\n"
     ]
    },
    {
     "name": "stderr",
     "output_type": "stream",
     "text": [
      "100%|██████████████████████████████████████████████████████████████████████| 468/468 [00:01<00:00, 417.75it/s]\n"
     ]
    },
    {
     "name": "stdout",
     "output_type": "stream",
     "text": [
      "train epoch: 9, loss: 0.2176\n",
      "0 loss : 0.0625, return: 0.6397, robust return 0.5802, q std: 0.7634\n",
      "15 loss : 0.0956, return: 0.5825, robust return 0.5549, q std: 0.7636\n",
      "30 loss : 0.2414, return: 0.2927, robust return 0.4518, q std: 0.7640\n",
      "45 loss : 0.4733, return: -0.1895, robust return 0.3045, q std: 0.7626\n",
      "60 loss : 0.7021, return: -0.6300, robust return 0.1673, q std: 0.7616\n",
      "75 loss : 0.8135, return: -0.7355, robust return 0.1155, q std: 0.7617\n"
     ]
    },
    {
     "name": "stderr",
     "output_type": "stream",
     "text": [
      "100%|██████████████████████████████████████████████████████████████████████| 468/468 [00:01<00:00, 410.98it/s]\n"
     ]
    },
    {
     "name": "stdout",
     "output_type": "stream",
     "text": [
      "train epoch: 10, loss: 0.2145\n",
      "0 loss : 0.0593, return: 0.6414, robust return 0.5689, q std: 0.7576\n",
      "15 loss : 0.0872, return: 0.5949, robust return 0.5475, q std: 0.7584\n",
      "30 loss : 0.2206, return: 0.3491, robust return 0.4565, q std: 0.7582\n",
      "45 loss : 0.4708, return: -0.1741, robust return 0.3048, q std: 0.7567\n",
      "60 loss : 0.7110, return: -0.6274, robust return 0.1831, q std: 0.7543\n",
      "75 loss : 0.7983, return: -0.7442, robust return 0.1358, q std: 0.7521\n"
     ]
    },
    {
     "name": "stderr",
     "output_type": "stream",
     "text": [
      "100%|██████████████████████████████████████████████████████████████████████| 468/468 [00:02<00:00, 219.45it/s]\n"
     ]
    },
    {
     "name": "stdout",
     "output_type": "stream",
     "text": [
      "train epoch: 1, loss: 0.6520\n",
      "0 loss : 0.1922, return: 0.4028, robust return 0.3821, q std: 0.7889\n",
      "15 loss : 0.2434, return: 0.3868, robust return 0.3719, q std: 0.7954\n",
      "30 loss : 0.3945, return: 0.3566, robust return 0.3451, q std: 0.8033\n",
      "45 loss : 0.6158, return: 0.3120, robust return 0.3077, q std: 0.8076\n",
      "60 loss : 0.7933, return: 0.2794, robust return 0.2770, q std: 0.8075\n",
      "75 loss : 0.8653, return: 0.2655, robust return 0.2654, q std: 0.8073\n"
     ]
    },
    {
     "name": "stderr",
     "output_type": "stream",
     "text": [
      "100%|██████████████████████████████████████████████████████████████████████| 468/468 [00:01<00:00, 413.45it/s]\n"
     ]
    },
    {
     "name": "stdout",
     "output_type": "stream",
     "text": [
      "train epoch: 2, loss: 0.3980\n",
      "0 loss : 0.1315, return: 0.4547, robust return 0.3877, q std: 0.7850\n",
      "15 loss : 0.1837, return: 0.4319, robust return 0.3784, q std: 0.7898\n",
      "30 loss : 0.3388, return: 0.3767, robust return 0.3530, q std: 0.7974\n",
      "45 loss : 0.5593, return: 0.3007, robust return 0.3173, q std: 0.8042\n",
      "60 loss : 0.7579, return: 0.2392, robust return 0.2848, q std: 0.8050\n",
      "75 loss : 0.8353, return: 0.2200, robust return 0.2725, q std: 0.8059\n"
     ]
    },
    {
     "name": "stderr",
     "output_type": "stream",
     "text": [
      "100%|██████████████████████████████████████████████████████████████████████| 468/468 [00:01<00:00, 417.65it/s]\n"
     ]
    },
    {
     "name": "stdout",
     "output_type": "stream",
     "text": [
      "train epoch: 3, loss: 0.3723\n",
      "0 loss : 0.1229, return: 0.5119, robust return 0.3985, q std: 0.7818\n",
      "15 loss : 0.1614, return: 0.4776, robust return 0.3880, q std: 0.7845\n",
      "30 loss : 0.2987, return: 0.3596, robust return 0.3639, q std: 0.7900\n",
      "45 loss : 0.5143, return: 0.1749, robust return 0.3267, q std: 0.7951\n",
      "60 loss : 0.7195, return: 0.0110, robust return 0.2927, q std: 0.7958\n",
      "75 loss : 0.8113, return: -0.0452, robust return 0.2775, q std: 0.7958\n"
     ]
    },
    {
     "name": "stderr",
     "output_type": "stream",
     "text": [
      "100%|██████████████████████████████████████████████████████████████████████| 468/468 [00:01<00:00, 407.41it/s]\n"
     ]
    },
    {
     "name": "stdout",
     "output_type": "stream",
     "text": [
      "train epoch: 4, loss: 0.3600\n",
      "0 loss : 0.0969, return: 0.5309, robust return 0.4089, q std: 0.7796\n",
      "15 loss : 0.1317, return: 0.5076, robust return 0.3987, q std: 0.7817\n",
      "30 loss : 0.2850, return: 0.3795, robust return 0.3727, q std: 0.7856\n",
      "45 loss : 0.5121, return: 0.1681, robust return 0.3332, q std: 0.7898\n",
      "60 loss : 0.6996, return: -0.0024, robust return 0.2993, q std: 0.7910\n",
      "75 loss : 0.7775, return: -0.0491, robust return 0.2842, q std: 0.7907\n"
     ]
    },
    {
     "name": "stderr",
     "output_type": "stream",
     "text": [
      "100%|██████████████████████████████████████████████████████████████████████| 468/468 [00:01<00:00, 390.00it/s]\n"
     ]
    },
    {
     "name": "stdout",
     "output_type": "stream",
     "text": [
      "train epoch: 5, loss: 0.3536\n",
      "0 loss : 0.0914, return: 0.5598, robust return 0.3978, q std: 0.7813\n",
      "15 loss : 0.1237, return: 0.5246, robust return 0.3916, q std: 0.7830\n",
      "30 loss : 0.2624, return: 0.3881, robust return 0.3691, q std: 0.7871\n",
      "45 loss : 0.5005, return: 0.1447, robust return 0.3301, q std: 0.7895\n",
      "60 loss : 0.7330, return: -0.0886, robust return 0.2911, q std: 0.7906\n",
      "75 loss : 0.8403, return: -0.1758, robust return 0.2726, q std: 0.7913\n"
     ]
    },
    {
     "name": "stderr",
     "output_type": "stream",
     "text": [
      "100%|██████████████████████████████████████████████████████████████████████| 468/468 [00:01<00:00, 412.47it/s]\n"
     ]
    },
    {
     "name": "stdout",
     "output_type": "stream",
     "text": [
      "train epoch: 6, loss: 0.3477\n",
      "0 loss : 0.0983, return: 0.5660, robust return 0.4095, q std: 0.7822\n",
      "15 loss : 0.1311, return: 0.5233, robust return 0.3966, q std: 0.7837\n",
      "30 loss : 0.2710, return: 0.3588, robust return 0.3698, q std: 0.7869\n",
      "45 loss : 0.4883, return: 0.1005, robust return 0.3314, q std: 0.7898\n",
      "60 loss : 0.6969, return: -0.1374, robust return 0.2941, q std: 0.7922\n",
      "75 loss : 0.7994, return: -0.2420, robust return 0.2768, q std: 0.7928\n"
     ]
    },
    {
     "name": "stderr",
     "output_type": "stream",
     "text": [
      "100%|██████████████████████████████████████████████████████████████████████| 468/468 [00:01<00:00, 396.15it/s]\n"
     ]
    },
    {
     "name": "stdout",
     "output_type": "stream",
     "text": [
      "train epoch: 7, loss: 0.3444\n",
      "0 loss : 0.0796, return: 0.5742, robust return 0.4205, q std: 0.7790\n",
      "15 loss : 0.1124, return: 0.5384, robust return 0.4111, q std: 0.7803\n",
      "30 loss : 0.2421, return: 0.4002, robust return 0.3872, q std: 0.7840\n",
      "45 loss : 0.4646, return: 0.1569, robust return 0.3434, q std: 0.7856\n",
      "60 loss : 0.7054, return: -0.1127, robust return 0.2932, q std: 0.7850\n",
      "75 loss : 0.8445, return: -0.2530, robust return 0.2684, q std: 0.7855\n"
     ]
    },
    {
     "name": "stderr",
     "output_type": "stream",
     "text": [
      "100%|██████████████████████████████████████████████████████████████████████| 468/468 [00:01<00:00, 424.47it/s]\n"
     ]
    },
    {
     "name": "stdout",
     "output_type": "stream",
     "text": [
      "train epoch: 8, loss: 0.3400\n",
      "0 loss : 0.0754, return: 0.5797, robust return 0.4169, q std: 0.7795\n",
      "15 loss : 0.1082, return: 0.5467, robust return 0.4052, q std: 0.7799\n",
      "30 loss : 0.2437, return: 0.4030, robust return 0.3787, q std: 0.7836\n",
      "45 loss : 0.4715, return: 0.1629, robust return 0.3380, q std: 0.7871\n",
      "60 loss : 0.6950, return: -0.0559, robust return 0.2982, q std: 0.7884\n",
      "75 loss : 0.8138, return: -0.1594, robust return 0.2773, q std: 0.7884\n"
     ]
    },
    {
     "name": "stderr",
     "output_type": "stream",
     "text": [
      "100%|██████████████████████████████████████████████████████████████████████| 468/468 [00:01<00:00, 413.38it/s]\n"
     ]
    },
    {
     "name": "stdout",
     "output_type": "stream",
     "text": [
      "train epoch: 9, loss: 0.3369\n",
      "0 loss : 0.0794, return: 0.5945, robust return 0.4125, q std: 0.7836\n",
      "15 loss : 0.1084, return: 0.5587, robust return 0.4012, q std: 0.7849\n",
      "30 loss : 0.2448, return: 0.3965, robust return 0.3732, q std: 0.7902\n",
      "45 loss : 0.4710, return: 0.1359, robust return 0.3334, q std: 0.7945\n",
      "60 loss : 0.7137, return: -0.1367, robust return 0.2927, q std: 0.7974\n",
      "75 loss : 0.8481, return: -0.2795, robust return 0.2703, q std: 0.7982\n"
     ]
    },
    {
     "name": "stderr",
     "output_type": "stream",
     "text": [
      "100%|██████████████████████████████████████████████████████████████████████| 468/468 [00:01<00:00, 402.25it/s]\n"
     ]
    },
    {
     "name": "stdout",
     "output_type": "stream",
     "text": [
      "train epoch: 10, loss: 0.3333\n",
      "0 loss : 0.0853, return: 0.6016, robust return 0.4420, q std: 0.7812\n",
      "15 loss : 0.1143, return: 0.5665, robust return 0.4237, q std: 0.7820\n",
      "30 loss : 0.2495, return: 0.3878, robust return 0.3843, q std: 0.7854\n",
      "45 loss : 0.4833, return: 0.0496, robust return 0.3352, q std: 0.7878\n",
      "60 loss : 0.7482, return: -0.3186, robust return 0.2868, q std: 0.7882\n",
      "75 loss : 0.8896, return: -0.5178, robust return 0.2628, q std: 0.7878\n"
     ]
    },
    {
     "name": "stderr",
     "output_type": "stream",
     "text": [
      "100%|██████████████████████████████████████████████████████████████████████| 468/468 [00:02<00:00, 213.54it/s]\n"
     ]
    },
    {
     "name": "stdout",
     "output_type": "stream",
     "text": [
      "train epoch: 1, loss: 0.6979\n",
      "0 loss : 0.2228, return: 0.3698, robust return 0.3748, q std: 0.8136\n",
      "15 loss : 0.2748, return: 0.3576, robust return 0.3646, q std: 0.8224\n",
      "30 loss : 0.4244, return: 0.3337, robust return 0.3389, q std: 0.8317\n",
      "45 loss : 0.6363, return: 0.2984, robust return 0.3028, q std: 0.8366\n",
      "60 loss : 0.7869, return: 0.2725, robust return 0.2777, q std: 0.8372\n",
      "75 loss : 0.8371, return: 0.2663, robust return 0.2694, q std: 0.8354\n"
     ]
    },
    {
     "name": "stderr",
     "output_type": "stream",
     "text": [
      "100%|██████████████████████████████████████████████████████████████████████| 468/468 [00:01<00:00, 399.65it/s]\n"
     ]
    },
    {
     "name": "stdout",
     "output_type": "stream",
     "text": [
      "train epoch: 2, loss: 0.4809\n",
      "0 loss : 0.1465, return: 0.4345, robust return 0.3831, q std: 0.8006\n",
      "15 loss : 0.1873, return: 0.4197, robust return 0.3761, q std: 0.8065\n",
      "30 loss : 0.3370, return: 0.3685, robust return 0.3517, q std: 0.8141\n",
      "45 loss : 0.5838, return: 0.2924, robust return 0.3119, q std: 0.8211\n",
      "60 loss : 0.7752, return: 0.2200, robust return 0.2820, q std: 0.8220\n",
      "75 loss : 0.8392, return: 0.2021, robust return 0.2722, q std: 0.8229\n"
     ]
    },
    {
     "name": "stderr",
     "output_type": "stream",
     "text": [
      "100%|██████████████████████████████████████████████████████████████████████| 468/468 [00:01<00:00, 420.05it/s]\n"
     ]
    },
    {
     "name": "stdout",
     "output_type": "stream",
     "text": [
      "train epoch: 3, loss: 0.4587\n",
      "0 loss : 0.1321, return: 0.4604, robust return 0.3856, q std: 0.8016\n",
      "15 loss : 0.1750, return: 0.4450, robust return 0.3783, q std: 0.8058\n",
      "30 loss : 0.3207, return: 0.3792, robust return 0.3553, q std: 0.8108\n",
      "45 loss : 0.5546, return: 0.2791, robust return 0.3184, q std: 0.8148\n",
      "60 loss : 0.7536, return: 0.1802, robust return 0.2860, q std: 0.8150\n",
      "75 loss : 0.8200, return: 0.1632, robust return 0.2755, q std: 0.8135\n"
     ]
    },
    {
     "name": "stderr",
     "output_type": "stream",
     "text": [
      "100%|██████████████████████████████████████████████████████████████████████| 468/468 [00:01<00:00, 424.24it/s]\n"
     ]
    },
    {
     "name": "stdout",
     "output_type": "stream",
     "text": [
      "train epoch: 4, loss: 0.4476\n",
      "0 loss : 0.1142, return: 0.4509, robust return 0.3902, q std: 0.7989\n",
      "15 loss : 0.1520, return: 0.4339, robust return 0.3829, q std: 0.8020\n",
      "30 loss : 0.3061, return: 0.3678, robust return 0.3578, q std: 0.8059\n",
      "45 loss : 0.5418, return: 0.2349, robust return 0.3212, q std: 0.8086\n",
      "60 loss : 0.7236, return: 0.1452, robust return 0.2921, q std: 0.8088\n",
      "75 loss : 0.7943, return: 0.1368, robust return 0.2815, q std: 0.8081\n"
     ]
    },
    {
     "name": "stderr",
     "output_type": "stream",
     "text": [
      "100%|██████████████████████████████████████████████████████████████████████| 468/468 [00:01<00:00, 414.00it/s]\n"
     ]
    },
    {
     "name": "stdout",
     "output_type": "stream",
     "text": [
      "train epoch: 5, loss: 0.4409\n",
      "0 loss : 0.1090, return: 0.4672, robust return 0.3893, q std: 0.7984\n",
      "15 loss : 0.1443, return: 0.4495, robust return 0.3827, q std: 0.8014\n",
      "30 loss : 0.2922, return: 0.3991, robust return 0.3589, q std: 0.8051\n",
      "45 loss : 0.5532, return: 0.3074, robust return 0.3173, q std: 0.8051\n",
      "60 loss : 0.7604, return: 0.2259, robust return 0.2844, q std: 0.8033\n",
      "75 loss : 0.8301, return: 0.2143, robust return 0.2739, q std: 0.8020\n"
     ]
    },
    {
     "name": "stderr",
     "output_type": "stream",
     "text": [
      "100%|██████████████████████████████████████████████████████████████████████| 468/468 [00:01<00:00, 412.88it/s]\n"
     ]
    },
    {
     "name": "stdout",
     "output_type": "stream",
     "text": [
      "train epoch: 6, loss: 0.4359\n",
      "0 loss : 0.1041, return: 0.4924, robust return 0.3904, q std: 0.8034\n",
      "15 loss : 0.1384, return: 0.4674, robust return 0.3833, q std: 0.8076\n",
      "30 loss : 0.2845, return: 0.3834, robust return 0.3588, q std: 0.8118\n",
      "45 loss : 0.5169, return: 0.2125, robust return 0.3218, q std: 0.8140\n",
      "60 loss : 0.7177, return: 0.0630, robust return 0.2909, q std: 0.8154\n",
      "75 loss : 0.8046, return: 0.0343, robust return 0.2785, q std: 0.8120\n"
     ]
    },
    {
     "name": "stderr",
     "output_type": "stream",
     "text": [
      "100%|██████████████████████████████████████████████████████████████████████| 468/468 [00:01<00:00, 423.11it/s]\n"
     ]
    },
    {
     "name": "stdout",
     "output_type": "stream",
     "text": [
      "train epoch: 7, loss: 0.4340\n",
      "0 loss : 0.1011, return: 0.4726, robust return 0.3895, q std: 0.7990\n",
      "15 loss : 0.1297, return: 0.4649, robust return 0.3844, q std: 0.8023\n",
      "30 loss : 0.2644, return: 0.4083, robust return 0.3637, q std: 0.8055\n",
      "45 loss : 0.5014, return: 0.3007, robust return 0.3266, q std: 0.8059\n",
      "60 loss : 0.7228, return: 0.1968, robust return 0.2919, q std: 0.8040\n",
      "75 loss : 0.8212, return: 0.1590, robust return 0.2764, q std: 0.8017\n"
     ]
    },
    {
     "name": "stderr",
     "output_type": "stream",
     "text": [
      "100%|██████████████████████████████████████████████████████████████████████| 468/468 [00:01<00:00, 420.46it/s]\n"
     ]
    },
    {
     "name": "stdout",
     "output_type": "stream",
     "text": [
      "train epoch: 8, loss: 0.4294\n",
      "0 loss : 0.0909, return: 0.4765, robust return 0.3902, q std: 0.8032\n",
      "15 loss : 0.1268, return: 0.4626, robust return 0.3850, q std: 0.8043\n",
      "30 loss : 0.2683, return: 0.4077, robust return 0.3625, q std: 0.8068\n",
      "45 loss : 0.5028, return: 0.3124, robust return 0.3255, q std: 0.8075\n",
      "60 loss : 0.7010, return: 0.2047, robust return 0.2938, q std: 0.8050\n",
      "75 loss : 0.7736, return: 0.1862, robust return 0.2829, q std: 0.8005\n"
     ]
    },
    {
     "name": "stderr",
     "output_type": "stream",
     "text": [
      "100%|██████████████████████████████████████████████████████████████████████| 468/468 [00:01<00:00, 420.45it/s]\n"
     ]
    },
    {
     "name": "stdout",
     "output_type": "stream",
     "text": [
      "train epoch: 9, loss: 0.4275\n",
      "0 loss : 0.0939, return: 0.4855, robust return 0.3873, q std: 0.8026\n",
      "15 loss : 0.1254, return: 0.4681, robust return 0.3815, q std: 0.8048\n",
      "30 loss : 0.2746, return: 0.3904, robust return 0.3580, q std: 0.8082\n",
      "45 loss : 0.5232, return: 0.2504, robust return 0.3197, q std: 0.8092\n",
      "60 loss : 0.7352, return: 0.1235, robust return 0.2870, q std: 0.8095\n",
      "75 loss : 0.8178, return: 0.0832, robust return 0.2752, q std: 0.8067\n"
     ]
    },
    {
     "name": "stderr",
     "output_type": "stream",
     "text": [
      "100%|██████████████████████████████████████████████████████████████████████| 468/468 [00:01<00:00, 407.53it/s]\n"
     ]
    },
    {
     "name": "stdout",
     "output_type": "stream",
     "text": [
      "train epoch: 10, loss: 0.4238\n",
      "0 loss : 0.0974, return: 0.5165, robust return 0.3929, q std: 0.8000\n",
      "15 loss : 0.1221, return: 0.4906, robust return 0.3875, q std: 0.8017\n",
      "30 loss : 0.2646, return: 0.3800, robust return 0.3631, q std: 0.8046\n",
      "45 loss : 0.5239, return: 0.1593, robust return 0.3211, q std: 0.8057\n",
      "60 loss : 0.7516, return: -0.0292, robust return 0.2850, q std: 0.8043\n",
      "75 loss : 0.8350, return: -0.0768, robust return 0.2729, q std: 0.8007\n"
     ]
    },
    {
     "name": "stderr",
     "output_type": "stream",
     "text": [
      "100%|██████████████████████████████████████████████████████████████████████| 468/468 [00:02<00:00, 211.90it/s]\n"
     ]
    },
    {
     "name": "stdout",
     "output_type": "stream",
     "text": [
      "train epoch: 1, loss: 0.7435\n",
      "0 loss : 0.2689, return: 0.3563, robust return 0.3654, q std: 0.8309\n",
      "15 loss : 0.3252, return: 0.3495, robust return 0.3538, q std: 0.8382\n",
      "30 loss : 0.4647, return: 0.3277, robust return 0.3306, q std: 0.8462\n",
      "45 loss : 0.6537, return: 0.2960, robust return 0.2995, q std: 0.8493\n",
      "60 loss : 0.7784, return: 0.2771, robust return 0.2781, q std: 0.8477\n",
      "75 loss : 0.8088, return: 0.2712, robust return 0.2730, q std: 0.8463\n"
     ]
    },
    {
     "name": "stderr",
     "output_type": "stream",
     "text": [
      "100%|██████████████████████████████████████████████████████████████████████| 468/468 [00:01<00:00, 402.25it/s]\n"
     ]
    },
    {
     "name": "stdout",
     "output_type": "stream",
     "text": [
      "train epoch: 2, loss: 0.5517\n",
      "0 loss : 0.1714, return: 0.4095, robust return 0.3756, q std: 0.8242\n",
      "15 loss : 0.2204, return: 0.3913, robust return 0.3671, q std: 0.8281\n",
      "30 loss : 0.3712, return: 0.3563, robust return 0.3439, q std: 0.8337\n",
      "45 loss : 0.5866, return: 0.3137, robust return 0.3100, q std: 0.8383\n",
      "60 loss : 0.7609, return: 0.2826, robust return 0.2830, q std: 0.8371\n",
      "75 loss : 0.8345, return: 0.2709, robust return 0.2722, q std: 0.8373\n"
     ]
    },
    {
     "name": "stderr",
     "output_type": "stream",
     "text": [
      "100%|██████████████████████████████████████████████████████████████████████| 468/468 [00:01<00:00, 415.87it/s]\n"
     ]
    },
    {
     "name": "stdout",
     "output_type": "stream",
     "text": [
      "train epoch: 3, loss: 0.5292\n",
      "0 loss : 0.1511, return: 0.4227, robust return 0.3793, q std: 0.8198\n",
      "15 loss : 0.2019, return: 0.4080, robust return 0.3697, q std: 0.8253\n",
      "30 loss : 0.3528, return: 0.3737, robust return 0.3471, q std: 0.8322\n",
      "45 loss : 0.5504, return: 0.3296, robust return 0.3164, q std: 0.8364\n",
      "60 loss : 0.7146, return: 0.2963, robust return 0.2912, q std: 0.8349\n",
      "75 loss : 0.7953, return: 0.2817, robust return 0.2780, q std: 0.8329\n"
     ]
    },
    {
     "name": "stderr",
     "output_type": "stream",
     "text": [
      "100%|██████████████████████████████████████████████████████████████████████| 468/468 [00:01<00:00, 393.49it/s]\n"
     ]
    },
    {
     "name": "stdout",
     "output_type": "stream",
     "text": [
      "train epoch: 4, loss: 0.5174\n",
      "0 loss : 0.1455, return: 0.4216, robust return 0.3767, q std: 0.8205\n",
      "15 loss : 0.1828, return: 0.4080, robust return 0.3681, q std: 0.8247\n",
      "30 loss : 0.3232, return: 0.3612, robust return 0.3485, q std: 0.8289\n",
      "45 loss : 0.5212, return: 0.2996, robust return 0.3210, q std: 0.8313\n",
      "60 loss : 0.6997, return: 0.2342, robust return 0.2950, q std: 0.8304\n",
      "75 loss : 0.7926, return: 0.2050, robust return 0.2807, q std: 0.8285\n"
     ]
    },
    {
     "name": "stderr",
     "output_type": "stream",
     "text": [
      "100%|██████████████████████████████████████████████████████████████████████| 468/468 [00:01<00:00, 421.22it/s]\n"
     ]
    },
    {
     "name": "stdout",
     "output_type": "stream",
     "text": [
      "train epoch: 5, loss: 0.5109\n",
      "0 loss : 0.1316, return: 0.4273, robust return 0.3788, q std: 0.8184\n",
      "15 loss : 0.1665, return: 0.4191, robust return 0.3715, q std: 0.8216\n",
      "30 loss : 0.3094, return: 0.3854, robust return 0.3506, q std: 0.8255\n",
      "45 loss : 0.5557, return: 0.3320, robust return 0.3147, q std: 0.8257\n",
      "60 loss : 0.7854, return: 0.2798, robust return 0.2791, q std: 0.8227\n",
      "75 loss : 0.8796, return: 0.2598, robust return 0.2652, q std: 0.8200\n"
     ]
    },
    {
     "name": "stderr",
     "output_type": "stream",
     "text": [
      "100%|██████████████████████████████████████████████████████████████████████| 468/468 [00:01<00:00, 422.34it/s]\n"
     ]
    },
    {
     "name": "stdout",
     "output_type": "stream",
     "text": [
      "train epoch: 6, loss: 0.5063\n",
      "0 loss : 0.1254, return: 0.4173, robust return 0.3794, q std: 0.8205\n",
      "15 loss : 0.1577, return: 0.4094, robust return 0.3728, q std: 0.8231\n",
      "30 loss : 0.2955, return: 0.3799, robust return 0.3509, q std: 0.8261\n",
      "45 loss : 0.5236, return: 0.3314, robust return 0.3180, q std: 0.8267\n",
      "60 loss : 0.7283, return: 0.2873, robust return 0.2884, q std: 0.8252\n",
      "75 loss : 0.8360, return: 0.2663, robust return 0.2734, q std: 0.8225\n"
     ]
    },
    {
     "name": "stderr",
     "output_type": "stream",
     "text": [
      "100%|██████████████████████████████████████████████████████████████████████| 468/468 [00:01<00:00, 420.01it/s]\n"
     ]
    },
    {
     "name": "stdout",
     "output_type": "stream",
     "text": [
      "train epoch: 7, loss: 0.5051\n",
      "0 loss : 0.1202, return: 0.4473, robust return 0.3790, q std: 0.8155\n",
      "15 loss : 0.1565, return: 0.4378, robust return 0.3726, q std: 0.8189\n",
      "30 loss : 0.3070, return: 0.3942, robust return 0.3510, q std: 0.8234\n",
      "45 loss : 0.5465, return: 0.3159, robust return 0.3157, q std: 0.8248\n",
      "60 loss : 0.7811, return: 0.2279, robust return 0.2814, q std: 0.8235\n",
      "75 loss : 0.9078, return: 0.1843, robust return 0.2626, q std: 0.8226\n"
     ]
    },
    {
     "name": "stderr",
     "output_type": "stream",
     "text": [
      "100%|██████████████████████████████████████████████████████████████████████| 468/468 [00:01<00:00, 419.36it/s]\n"
     ]
    },
    {
     "name": "stdout",
     "output_type": "stream",
     "text": [
      "train epoch: 8, loss: 0.5000\n",
      "0 loss : 0.1059, return: 0.4367, robust return 0.3829, q std: 0.8197\n",
      "15 loss : 0.1505, return: 0.4300, robust return 0.3741, q std: 0.8217\n",
      "30 loss : 0.2928, return: 0.3963, robust return 0.3530, q std: 0.8258\n",
      "45 loss : 0.5108, return: 0.3383, robust return 0.3217, q std: 0.8281\n",
      "60 loss : 0.7020, return: 0.2900, robust return 0.2930, q std: 0.8255\n",
      "75 loss : 0.8066, return: 0.2689, robust return 0.2771, q std: 0.8201\n"
     ]
    },
    {
     "name": "stderr",
     "output_type": "stream",
     "text": [
      "100%|██████████████████████████████████████████████████████████████████████| 468/468 [00:01<00:00, 417.62it/s]\n"
     ]
    },
    {
     "name": "stdout",
     "output_type": "stream",
     "text": [
      "train epoch: 9, loss: 0.4981\n",
      "0 loss : 0.1053, return: 0.4284, robust return 0.3820, q std: 0.8167\n",
      "15 loss : 0.1316, return: 0.4223, robust return 0.3773, q std: 0.8184\n",
      "30 loss : 0.2735, return: 0.3920, robust return 0.3559, q std: 0.8229\n",
      "45 loss : 0.5168, return: 0.3339, robust return 0.3193, q std: 0.8252\n",
      "60 loss : 0.7571, return: 0.2741, robust return 0.2834, q std: 0.8238\n",
      "75 loss : 0.8832, return: 0.2464, robust return 0.2643, q std: 0.8212\n"
     ]
    },
    {
     "name": "stderr",
     "output_type": "stream",
     "text": [
      "100%|██████████████████████████████████████████████████████████████████████| 468/468 [00:01<00:00, 419.24it/s]\n"
     ]
    },
    {
     "name": "stdout",
     "output_type": "stream",
     "text": [
      "train epoch: 10, loss: 0.4942\n",
      "0 loss : 0.1078, return: 0.4631, robust return 0.3844, q std: 0.8163\n",
      "15 loss : 0.1346, return: 0.4544, robust return 0.3785, q std: 0.8172\n",
      "30 loss : 0.2662, return: 0.4078, robust return 0.3578, q std: 0.8202\n",
      "45 loss : 0.5142, return: 0.3110, robust return 0.3198, q std: 0.8222\n",
      "60 loss : 0.7783, return: 0.1836, robust return 0.2799, q std: 0.8219\n",
      "75 loss : 0.9052, return: 0.1320, robust return 0.2610, q std: 0.8194\n"
     ]
    },
    {
     "name": "stderr",
     "output_type": "stream",
     "text": [
      "100%|██████████████████████████████████████████████████████████████████████| 468/468 [00:02<00:00, 211.02it/s]\n"
     ]
    },
    {
     "name": "stdout",
     "output_type": "stream",
     "text": [
      "train epoch: 1, loss: 0.7739\n",
      "0 loss : 0.3184, return: 0.3546, robust return 0.3479, q std: 0.8593\n",
      "15 loss : 0.3666, return: 0.3493, robust return 0.3398, q std: 0.8681\n",
      "30 loss : 0.4854, return: 0.3303, robust return 0.3210, q std: 0.8774\n",
      "45 loss : 0.6532, return: 0.3017, robust return 0.2964, q std: 0.8815\n",
      "60 loss : 0.7821, return: 0.2798, robust return 0.2785, q std: 0.8803\n",
      "75 loss : 0.8187, return: 0.2730, robust return 0.2731, q std: 0.8770\n"
     ]
    },
    {
     "name": "stderr",
     "output_type": "stream",
     "text": [
      "100%|██████████████████████████████████████████████████████████████████████| 468/468 [00:01<00:00, 413.77it/s]\n"
     ]
    },
    {
     "name": "stdout",
     "output_type": "stream",
     "text": [
      "train epoch: 2, loss: 0.6081\n",
      "0 loss : 0.2011, return: 0.3967, robust return 0.3688, q std: 0.8411\n",
      "15 loss : 0.2526, return: 0.3820, robust return 0.3592, q std: 0.8463\n",
      "30 loss : 0.3959, return: 0.3495, robust return 0.3375, q std: 0.8541\n",
      "45 loss : 0.6109, return: 0.3086, robust return 0.3054, q std: 0.8611\n",
      "60 loss : 0.7829, return: 0.2778, robust return 0.2798, q std: 0.8625\n",
      "75 loss : 0.8506, return: 0.2675, robust return 0.2704, q std: 0.8635\n"
     ]
    },
    {
     "name": "stderr",
     "output_type": "stream",
     "text": [
      "100%|██████████████████████████████████████████████████████████████████████| 468/468 [00:01<00:00, 413.00it/s]\n"
     ]
    },
    {
     "name": "stdout",
     "output_type": "stream",
     "text": [
      "train epoch: 3, loss: 0.5863\n",
      "0 loss : 0.1810, return: 0.3869, robust return 0.3690, q std: 0.8382\n",
      "15 loss : 0.2279, return: 0.3779, robust return 0.3605, q std: 0.8439\n",
      "30 loss : 0.3830, return: 0.3502, robust return 0.3379, q std: 0.8513\n",
      "45 loss : 0.6100, return: 0.3093, robust return 0.3058, q std: 0.8554\n",
      "60 loss : 0.7875, return: 0.2773, robust return 0.2800, q std: 0.8546\n",
      "75 loss : 0.8511, return: 0.2669, robust return 0.2708, q std: 0.8530\n"
     ]
    },
    {
     "name": "stderr",
     "output_type": "stream",
     "text": [
      "100%|██████████████████████████████████████████████████████████████████████| 468/468 [00:01<00:00, 418.36it/s]\n"
     ]
    },
    {
     "name": "stdout",
     "output_type": "stream",
     "text": [
      "train epoch: 4, loss: 0.5740\n",
      "0 loss : 0.1698, return: 0.3822, robust return 0.3699, q std: 0.8387\n",
      "15 loss : 0.2094, return: 0.3793, robust return 0.3620, q std: 0.8425\n",
      "30 loss : 0.3532, return: 0.3566, robust return 0.3409, q std: 0.8480\n",
      "45 loss : 0.5763, return: 0.3170, robust return 0.3097, q std: 0.8517\n",
      "60 loss : 0.7508, return: 0.2848, robust return 0.2845, q std: 0.8513\n",
      "75 loss : 0.8207, return: 0.2735, robust return 0.2748, q std: 0.8492\n"
     ]
    },
    {
     "name": "stderr",
     "output_type": "stream",
     "text": [
      "100%|██████████████████████████████████████████████████████████████████████| 468/468 [00:01<00:00, 419.65it/s]\n"
     ]
    },
    {
     "name": "stdout",
     "output_type": "stream",
     "text": [
      "train epoch: 5, loss: 0.5680\n",
      "0 loss : 0.1582, return: 0.3870, robust return 0.3679, q std: 0.8347\n",
      "15 loss : 0.1910, return: 0.3807, robust return 0.3620, q std: 0.8383\n",
      "30 loss : 0.3247, return: 0.3583, robust return 0.3432, q std: 0.8441\n",
      "45 loss : 0.5570, return: 0.3182, robust return 0.3109, q std: 0.8460\n",
      "60 loss : 0.7758, return: 0.2793, robust return 0.2814, q std: 0.8442\n",
      "75 loss : 0.8751, return: 0.2625, robust return 0.2687, q std: 0.8423\n"
     ]
    },
    {
     "name": "stderr",
     "output_type": "stream",
     "text": [
      "100%|██████████████████████████████████████████████████████████████████████| 468/468 [00:01<00:00, 416.69it/s]\n"
     ]
    },
    {
     "name": "stdout",
     "output_type": "stream",
     "text": [
      "train epoch: 6, loss: 0.5647\n",
      "0 loss : 0.1458, return: 0.4050, robust return 0.3656, q std: 0.8359\n",
      "15 loss : 0.1828, return: 0.3925, robust return 0.3586, q std: 0.8395\n",
      "30 loss : 0.3341, return: 0.3605, robust return 0.3377, q std: 0.8440\n",
      "45 loss : 0.5667, return: 0.3172, robust return 0.3069, q std: 0.8456\n",
      "60 loss : 0.7615, return: 0.2831, robust return 0.2819, q std: 0.8446\n",
      "75 loss : 0.8426, return: 0.2707, robust return 0.2725, q std: 0.8414\n"
     ]
    },
    {
     "name": "stderr",
     "output_type": "stream",
     "text": [
      "100%|██████████████████████████████████████████████████████████████████████| 468/468 [00:01<00:00, 408.22it/s]\n"
     ]
    },
    {
     "name": "stdout",
     "output_type": "stream",
     "text": [
      "train epoch: 7, loss: 0.5653\n",
      "0 loss : 0.1538, return: 0.3856, robust return 0.3652, q std: 0.8376\n",
      "15 loss : 0.1832, return: 0.3785, robust return 0.3607, q std: 0.8399\n",
      "30 loss : 0.3137, return: 0.3594, robust return 0.3448, q std: 0.8442\n",
      "45 loss : 0.5245, return: 0.3247, robust return 0.3174, q std: 0.8462\n",
      "60 loss : 0.7254, return: 0.2906, robust return 0.2894, q std: 0.8446\n",
      "75 loss : 0.8474, return: 0.2704, robust return 0.2725, q std: 0.8445\n"
     ]
    },
    {
     "name": "stderr",
     "output_type": "stream",
     "text": [
      "100%|██████████████████████████████████████████████████████████████████████| 468/468 [00:01<00:00, 413.71it/s]\n"
     ]
    },
    {
     "name": "stdout",
     "output_type": "stream",
     "text": [
      "train epoch: 8, loss: 0.5604\n",
      "0 loss : 0.1370, return: 0.4088, robust return 0.3728, q std: 0.8359\n",
      "15 loss : 0.1697, return: 0.4014, robust return 0.3667, q std: 0.8375\n",
      "30 loss : 0.3124, return: 0.3712, robust return 0.3469, q std: 0.8421\n",
      "45 loss : 0.5296, return: 0.3263, robust return 0.3171, q std: 0.8441\n",
      "60 loss : 0.7205, return: 0.2909, robust return 0.2898, q std: 0.8431\n",
      "75 loss : 0.8203, return: 0.2744, robust return 0.2761, q std: 0.8412\n"
     ]
    },
    {
     "name": "stderr",
     "output_type": "stream",
     "text": [
      "100%|██████████████████████████████████████████████████████████████████████| 468/468 [00:01<00:00, 412.56it/s]\n"
     ]
    },
    {
     "name": "stdout",
     "output_type": "stream",
     "text": [
      "train epoch: 9, loss: 0.5589\n",
      "0 loss : 0.1410, return: 0.3981, robust return 0.3704, q std: 0.8355\n",
      "15 loss : 0.1733, return: 0.3914, robust return 0.3656, q std: 0.8381\n",
      "30 loss : 0.3091, return: 0.3692, robust return 0.3465, q std: 0.8444\n",
      "45 loss : 0.5167, return: 0.3310, robust return 0.3171, q std: 0.8480\n",
      "60 loss : 0.6992, return: 0.2973, robust return 0.2915, q std: 0.8477\n",
      "75 loss : 0.8039, return: 0.2785, robust return 0.2770, q std: 0.8454\n"
     ]
    },
    {
     "name": "stderr",
     "output_type": "stream",
     "text": [
      "100%|██████████████████████████████████████████████████████████████████████| 468/468 [00:01<00:00, 423.87it/s]\n"
     ]
    },
    {
     "name": "stdout",
     "output_type": "stream",
     "text": [
      "train epoch: 10, loss: 0.5556\n",
      "0 loss : 0.1330, return: 0.4244, robust return 0.3752, q std: 0.8346\n",
      "15 loss : 0.1619, return: 0.4188, robust return 0.3697, q std: 0.8367\n",
      "30 loss : 0.3045, return: 0.3855, robust return 0.3480, q std: 0.8411\n",
      "45 loss : 0.5238, return: 0.3358, robust return 0.3167, q std: 0.8440\n",
      "60 loss : 0.7510, return: 0.2888, robust return 0.2844, q std: 0.8440\n",
      "75 loss : 0.8900, return: 0.2652, robust return 0.2659, q std: 0.8427\n"
     ]
    },
    {
     "name": "stderr",
     "output_type": "stream",
     "text": [
      "100%|██████████████████████████████████████████████████████████████████████| 468/468 [00:02<00:00, 218.50it/s]\n"
     ]
    },
    {
     "name": "stdout",
     "output_type": "stream",
     "text": [
      "train epoch: 1, loss: 0.7958\n",
      "0 loss : 0.3867, return: 0.3457, robust return 0.3299, q std: 0.8782\n",
      "15 loss : 0.4279, return: 0.3404, robust return 0.3243, q std: 0.8840\n",
      "30 loss : 0.5271, return: 0.3229, robust return 0.3106, q std: 0.8902\n",
      "45 loss : 0.6695, return: 0.2941, robust return 0.2911, q std: 0.8933\n",
      "60 loss : 0.7792, return: 0.2701, robust return 0.2755, q std: 0.8921\n",
      "75 loss : 0.8071, return: 0.2656, robust return 0.2718, q std: 0.8891\n"
     ]
    },
    {
     "name": "stderr",
     "output_type": "stream",
     "text": [
      "100%|██████████████████████████████████████████████████████████████████████| 468/468 [00:01<00:00, 416.42it/s]\n"
     ]
    },
    {
     "name": "stdout",
     "output_type": "stream",
     "text": [
      "train epoch: 2, loss: 0.6541\n",
      "0 loss : 0.2477, return: 0.3657, robust return 0.3540, q std: 0.8689\n",
      "15 loss : 0.2911, return: 0.3589, robust return 0.3472, q std: 0.8742\n",
      "30 loss : 0.4234, return: 0.3376, robust return 0.3278, q std: 0.8813\n",
      "45 loss : 0.6177, return: 0.3027, robust return 0.2998, q std: 0.8877\n",
      "60 loss : 0.7787, return: 0.2726, robust return 0.2777, q std: 0.8886\n",
      "75 loss : 0.8283, return: 0.2654, robust return 0.2706, q std: 0.8888\n"
     ]
    },
    {
     "name": "stderr",
     "output_type": "stream",
     "text": [
      "100%|██████████████████████████████████████████████████████████████████████| 468/468 [00:01<00:00, 417.76it/s]\n"
     ]
    },
    {
     "name": "stdout",
     "output_type": "stream",
     "text": [
      "train epoch: 3, loss: 0.6342\n",
      "0 loss : 0.2350, return: 0.3720, robust return 0.3591, q std: 0.8613\n",
      "15 loss : 0.2786, return: 0.3634, robust return 0.3516, q std: 0.8663\n",
      "30 loss : 0.4184, return: 0.3390, robust return 0.3292, q std: 0.8727\n",
      "45 loss : 0.6261, return: 0.3044, robust return 0.2975, q std: 0.8769\n",
      "60 loss : 0.7984, return: 0.2740, robust return 0.2734, q std: 0.8765\n",
      "75 loss : 0.8532, return: 0.2643, robust return 0.2642, q std: 0.8743\n"
     ]
    },
    {
     "name": "stderr",
     "output_type": "stream",
     "text": [
      "100%|██████████████████████████████████████████████████████████████████████| 468/468 [00:01<00:00, 419.73it/s]\n"
     ]
    },
    {
     "name": "stdout",
     "output_type": "stream",
     "text": [
      "train epoch: 4, loss: 0.6234\n",
      "0 loss : 0.2023, return: 0.3810, robust return 0.3584, q std: 0.8555\n",
      "15 loss : 0.2401, return: 0.3756, robust return 0.3510, q std: 0.8600\n",
      "30 loss : 0.3817, return: 0.3529, robust return 0.3325, q std: 0.8654\n",
      "45 loss : 0.5756, return: 0.3175, robust return 0.3078, q std: 0.8692\n",
      "60 loss : 0.7339, return: 0.2871, robust return 0.2861, q std: 0.8691\n",
      "75 loss : 0.7986, return: 0.2758, robust return 0.2773, q std: 0.8666\n"
     ]
    },
    {
     "name": "stderr",
     "output_type": "stream",
     "text": [
      "100%|██████████████████████████████████████████████████████████████████████| 468/468 [00:01<00:00, 414.88it/s]\n"
     ]
    },
    {
     "name": "stdout",
     "output_type": "stream",
     "text": [
      "train epoch: 5, loss: 0.6179\n",
      "0 loss : 0.1843, return: 0.3847, robust return 0.3544, q std: 0.8518\n",
      "15 loss : 0.2255, return: 0.3786, robust return 0.3476, q std: 0.8556\n",
      "30 loss : 0.3618, return: 0.3549, robust return 0.3306, q std: 0.8605\n",
      "45 loss : 0.5750, return: 0.3161, robust return 0.3060, q std: 0.8629\n",
      "60 loss : 0.7734, return: 0.2804, robust return 0.2834, q std: 0.8618\n",
      "75 loss : 0.8623, return: 0.2654, robust return 0.2733, q std: 0.8591\n"
     ]
    },
    {
     "name": "stderr",
     "output_type": "stream",
     "text": [
      "100%|██████████████████████████████████████████████████████████████████████| 468/468 [00:01<00:00, 413.88it/s]\n"
     ]
    },
    {
     "name": "stdout",
     "output_type": "stream",
     "text": [
      "train epoch: 6, loss: 0.6131\n",
      "0 loss : 0.1685, return: 0.3964, robust return 0.3596, q std: 0.8523\n",
      "15 loss : 0.2090, return: 0.3860, robust return 0.3523, q std: 0.8565\n",
      "30 loss : 0.3640, return: 0.3560, robust return 0.3324, q std: 0.8605\n",
      "45 loss : 0.5742, return: 0.3095, robust return 0.3060, q std: 0.8623\n",
      "60 loss : 0.7472, return: 0.2723, robust return 0.2846, q std: 0.8610\n",
      "75 loss : 0.8166, return: 0.2561, robust return 0.2766, q std: 0.8571\n"
     ]
    },
    {
     "name": "stderr",
     "output_type": "stream",
     "text": [
      "100%|██████████████████████████████████████████████████████████████████████| 468/468 [00:01<00:00, 417.12it/s]\n"
     ]
    },
    {
     "name": "stdout",
     "output_type": "stream",
     "text": [
      "train epoch: 7, loss: 0.6141\n",
      "0 loss : 0.1757, return: 0.3757, robust return 0.3556, q std: 0.8533\n",
      "15 loss : 0.2136, return: 0.3702, robust return 0.3492, q std: 0.8579\n",
      "30 loss : 0.3421, return: 0.3515, robust return 0.3342, q std: 0.8636\n",
      "45 loss : 0.5437, return: 0.3197, robust return 0.3099, q std: 0.8676\n",
      "60 loss : 0.7567, return: 0.2827, robust return 0.2845, q std: 0.8672\n",
      "75 loss : 0.8752, return: 0.2620, robust return 0.2704, q std: 0.8664\n"
     ]
    },
    {
     "name": "stderr",
     "output_type": "stream",
     "text": [
      "100%|██████████████████████████████████████████████████████████████████████| 468/468 [00:01<00:00, 421.78it/s]\n"
     ]
    },
    {
     "name": "stdout",
     "output_type": "stream",
     "text": [
      "train epoch: 8, loss: 0.6094\n",
      "0 loss : 0.1655, return: 0.3907, robust return 0.3587, q std: 0.8562\n",
      "15 loss : 0.2049, return: 0.3836, robust return 0.3536, q std: 0.8600\n",
      "30 loss : 0.3437, return: 0.3596, robust return 0.3371, q std: 0.8665\n",
      "45 loss : 0.5404, return: 0.3252, robust return 0.3126, q std: 0.8706\n",
      "60 loss : 0.7325, return: 0.2909, robust return 0.2869, q std: 0.8694\n",
      "75 loss : 0.8276, return: 0.2747, robust return 0.2749, q std: 0.8663\n"
     ]
    },
    {
     "name": "stderr",
     "output_type": "stream",
     "text": [
      "100%|██████████████████████████████████████████████████████████████████████| 468/468 [00:01<00:00, 425.30it/s]\n"
     ]
    },
    {
     "name": "stdout",
     "output_type": "stream",
     "text": [
      "train epoch: 9, loss: 0.6084\n",
      "0 loss : 0.1632, return: 0.3888, robust return 0.3546, q std: 0.8521\n",
      "15 loss : 0.2005, return: 0.3819, robust return 0.3492, q std: 0.8551\n",
      "30 loss : 0.3386, return: 0.3578, robust return 0.3323, q std: 0.8615\n",
      "45 loss : 0.5438, return: 0.3208, robust return 0.3070, q std: 0.8652\n",
      "60 loss : 0.7554, return: 0.2821, robust return 0.2816, q std: 0.8648\n",
      "75 loss : 0.8603, return: 0.2642, robust return 0.2690, q std: 0.8616\n"
     ]
    },
    {
     "name": "stderr",
     "output_type": "stream",
     "text": [
      "100%|██████████████████████████████████████████████████████████████████████| 468/468 [00:01<00:00, 420.22it/s]\n"
     ]
    },
    {
     "name": "stdout",
     "output_type": "stream",
     "text": [
      "train epoch: 10, loss: 0.6053\n",
      "0 loss : 0.1563, return: 0.3846, robust return 0.3610, q std: 0.8524\n",
      "15 loss : 0.1877, return: 0.3784, robust return 0.3554, q std: 0.8555\n",
      "30 loss : 0.3435, return: 0.3557, robust return 0.3346, q std: 0.8611\n",
      "45 loss : 0.5595, return: 0.3206, robust return 0.3083, q std: 0.8645\n",
      "60 loss : 0.7608, return: 0.2881, robust return 0.2843, q std: 0.8640\n",
      "75 loss : 0.8559, return: 0.2732, robust return 0.2738, q std: 0.8613\n"
     ]
    },
    {
     "name": "stderr",
     "output_type": "stream",
     "text": [
      "100%|██████████████████████████████████████████████████████████████████████| 468/468 [00:02<00:00, 218.27it/s]\n"
     ]
    },
    {
     "name": "stdout",
     "output_type": "stream",
     "text": [
      "train epoch: 1, loss: 0.8094\n",
      "0 loss : 0.4520, return: 0.3402, robust return 0.3105, q std: 0.9101\n",
      "15 loss : 0.4898, return: 0.3337, robust return 0.3052, q std: 0.9141\n",
      "30 loss : 0.5696, return: 0.3174, robust return 0.2958, q std: 0.9200\n",
      "45 loss : 0.6794, return: 0.2942, robust return 0.2833, q std: 0.9218\n",
      "60 loss : 0.7692, return: 0.2744, robust return 0.2733, q std: 0.9176\n",
      "75 loss : 0.7957, return: 0.2691, robust return 0.2703, q std: 0.9134\n"
     ]
    },
    {
     "name": "stderr",
     "output_type": "stream",
     "text": [
      "100%|██████████████████████████████████████████████████████████████████████| 468/468 [00:01<00:00, 415.28it/s]\n"
     ]
    },
    {
     "name": "stdout",
     "output_type": "stream",
     "text": [
      "train epoch: 2, loss: 0.6886\n",
      "0 loss : 0.2883, return: 0.3605, robust return 0.3456, q std: 0.8844\n",
      "15 loss : 0.3275, return: 0.3555, robust return 0.3371, q std: 0.8883\n",
      "30 loss : 0.4476, return: 0.3354, robust return 0.3159, q std: 0.8954\n",
      "45 loss : 0.6297, return: 0.2989, robust return 0.2889, q std: 0.9005\n",
      "60 loss : 0.7790, return: 0.2681, robust return 0.2709, q std: 0.8981\n",
      "75 loss : 0.8138, return: 0.2629, robust return 0.2643, q std: 0.8964\n"
     ]
    },
    {
     "name": "stderr",
     "output_type": "stream",
     "text": [
      "100%|██████████████████████████████████████████████████████████████████████| 468/468 [00:01<00:00, 422.03it/s]\n"
     ]
    },
    {
     "name": "stdout",
     "output_type": "stream",
     "text": [
      "train epoch: 3, loss: 0.6698\n",
      "0 loss : 0.2839, return: 0.3755, robust return 0.3428, q std: 0.8863\n",
      "15 loss : 0.3205, return: 0.3691, robust return 0.3352, q std: 0.8903\n",
      "30 loss : 0.4352, return: 0.3459, robust return 0.3176, q std: 0.8968\n",
      "45 loss : 0.6066, return: 0.3119, robust return 0.2951, q std: 0.9002\n",
      "60 loss : 0.7507, return: 0.2828, robust return 0.2779, q std: 0.8958\n",
      "75 loss : 0.7966, return: 0.2735, robust return 0.2721, q std: 0.8899\n"
     ]
    },
    {
     "name": "stderr",
     "output_type": "stream",
     "text": [
      "100%|██████████████████████████████████████████████████████████████████████| 468/468 [00:01<00:00, 412.83it/s]\n"
     ]
    },
    {
     "name": "stdout",
     "output_type": "stream",
     "text": [
      "train epoch: 4, loss: 0.6629\n",
      "0 loss : 0.2647, return: 0.3804, robust return 0.3364, q std: 0.8830\n",
      "15 loss : 0.3006, return: 0.3768, robust return 0.3297, q std: 0.8853\n",
      "30 loss : 0.4138, return: 0.3562, robust return 0.3169, q std: 0.8887\n",
      "45 loss : 0.5737, return: 0.3231, robust return 0.3002, q std: 0.8901\n",
      "60 loss : 0.7114, return: 0.2938, robust return 0.2846, q std: 0.8876\n",
      "75 loss : 0.7685, return: 0.2804, robust return 0.2770, q std: 0.8839\n"
     ]
    },
    {
     "name": "stderr",
     "output_type": "stream",
     "text": [
      "100%|██████████████████████████████████████████████████████████████████████| 468/468 [00:01<00:00, 417.35it/s]\n"
     ]
    },
    {
     "name": "stdout",
     "output_type": "stream",
     "text": [
      "train epoch: 5, loss: 0.6582\n",
      "0 loss : 0.2315, return: 0.3774, robust return 0.3425, q std: 0.8728\n",
      "15 loss : 0.2642, return: 0.3720, robust return 0.3367, q std: 0.8760\n",
      "30 loss : 0.3788, return: 0.3518, robust return 0.3218, q std: 0.8812\n",
      "45 loss : 0.5607, return: 0.3179, robust return 0.3004, q std: 0.8833\n",
      "60 loss : 0.7362, return: 0.2840, robust return 0.2811, q std: 0.8806\n",
      "75 loss : 0.8140, return: 0.2699, robust return 0.2719, q std: 0.8770\n"
     ]
    },
    {
     "name": "stderr",
     "output_type": "stream",
     "text": [
      "100%|██████████████████████████████████████████████████████████████████████| 468/468 [00:01<00:00, 419.58it/s]\n"
     ]
    },
    {
     "name": "stdout",
     "output_type": "stream",
     "text": [
      "train epoch: 6, loss: 0.6549\n",
      "0 loss : 0.2097, return: 0.3733, robust return 0.3448, q std: 0.8718\n",
      "15 loss : 0.2452, return: 0.3657, robust return 0.3394, q std: 0.8752\n",
      "30 loss : 0.3766, return: 0.3419, robust return 0.3232, q std: 0.8792\n",
      "45 loss : 0.5636, return: 0.3098, robust return 0.3027, q std: 0.8812\n",
      "60 loss : 0.7215, return: 0.2815, robust return 0.2856, q std: 0.8803\n",
      "75 loss : 0.7948, return: 0.2702, robust return 0.2782, q std: 0.8764\n"
     ]
    },
    {
     "name": "stderr",
     "output_type": "stream",
     "text": [
      "100%|██████████████████████████████████████████████████████████████████████| 468/468 [00:01<00:00, 418.50it/s]\n"
     ]
    },
    {
     "name": "stdout",
     "output_type": "stream",
     "text": [
      "train epoch: 7, loss: 0.6557\n",
      "0 loss : 0.2060, return: 0.3734, robust return 0.3308, q std: 0.8709\n",
      "15 loss : 0.2378, return: 0.3699, robust return 0.3276, q std: 0.8743\n",
      "30 loss : 0.3647, return: 0.3490, robust return 0.3151, q std: 0.8798\n",
      "45 loss : 0.5553, return: 0.3183, robust return 0.2982, q std: 0.8823\n",
      "60 loss : 0.7262, return: 0.2902, robust return 0.2841, q std: 0.8803\n",
      "75 loss : 0.8061, return: 0.2790, robust return 0.2778, q std: 0.8785\n"
     ]
    },
    {
     "name": "stderr",
     "output_type": "stream",
     "text": [
      "100%|██████████████████████████████████████████████████████████████████████| 468/468 [00:01<00:00, 417.78it/s]\n"
     ]
    },
    {
     "name": "stdout",
     "output_type": "stream",
     "text": [
      "train epoch: 8, loss: 0.6505\n",
      "0 loss : 0.2010, return: 0.3814, robust return 0.3461, q std: 0.8703\n",
      "15 loss : 0.2335, return: 0.3765, robust return 0.3419, q std: 0.8729\n",
      "30 loss : 0.3494, return: 0.3591, robust return 0.3282, q std: 0.8788\n",
      "45 loss : 0.5289, return: 0.3293, robust return 0.3085, q std: 0.8823\n",
      "60 loss : 0.6918, return: 0.2997, robust return 0.2891, q std: 0.8794\n",
      "75 loss : 0.7803, return: 0.2841, robust return 0.2791, q std: 0.8747\n"
     ]
    },
    {
     "name": "stderr",
     "output_type": "stream",
     "text": [
      "100%|██████████████████████████████████████████████████████████████████████| 468/468 [00:01<00:00, 418.79it/s]\n"
     ]
    },
    {
     "name": "stdout",
     "output_type": "stream",
     "text": [
      "train epoch: 9, loss: 0.6492\n",
      "0 loss : 0.1967, return: 0.3834, robust return 0.3484, q std: 0.8672\n",
      "15 loss : 0.2289, return: 0.3783, robust return 0.3439, q std: 0.8689\n",
      "30 loss : 0.3545, return: 0.3573, robust return 0.3286, q std: 0.8735\n",
      "45 loss : 0.5547, return: 0.3185, robust return 0.3026, q std: 0.8770\n",
      "60 loss : 0.7548, return: 0.2785, robust return 0.2781, q std: 0.8765\n",
      "75 loss : 0.8505, return: 0.2614, robust return 0.2664, q std: 0.8737\n"
     ]
    },
    {
     "name": "stderr",
     "output_type": "stream",
     "text": [
      "100%|██████████████████████████████████████████████████████████████████████| 468/468 [00:01<00:00, 409.75it/s]\n"
     ]
    },
    {
     "name": "stdout",
     "output_type": "stream",
     "text": [
      "train epoch: 10, loss: 0.6460\n",
      "0 loss : 0.1820, return: 0.3791, robust return 0.3473, q std: 0.8688\n",
      "15 loss : 0.2121, return: 0.3746, robust return 0.3441, q std: 0.8708\n",
      "30 loss : 0.3258, return: 0.3561, robust return 0.3312, q std: 0.8755\n",
      "45 loss : 0.5129, return: 0.3251, robust return 0.3103, q std: 0.8787\n",
      "60 loss : 0.7026, return: 0.2925, robust return 0.2902, q std: 0.8770\n",
      "75 loss : 0.8090, return: 0.2743, robust return 0.2789, q std: 0.8733\n"
     ]
    },
    {
     "name": "stderr",
     "output_type": "stream",
     "text": [
      "100%|██████████████████████████████████████████████████████████████████████| 468/468 [00:02<00:00, 219.29it/s]\n"
     ]
    },
    {
     "name": "stdout",
     "output_type": "stream",
     "text": [
      "train epoch: 1, loss: 0.8194\n",
      "0 loss : 0.5168, return: 0.3325, robust return 0.3033, q std: 0.9320\n",
      "15 loss : 0.5472, return: 0.3266, robust return 0.2982, q std: 0.9357\n",
      "30 loss : 0.6186, return: 0.3127, robust return 0.2883, q std: 0.9405\n",
      "45 loss : 0.7122, return: 0.2883, robust return 0.2753, q std: 0.9410\n",
      "60 loss : 0.7822, return: 0.2656, robust return 0.2661, q std: 0.9376\n",
      "75 loss : 0.7989, return: 0.2606, robust return 0.2641, q std: 0.9354\n"
     ]
    },
    {
     "name": "stderr",
     "output_type": "stream",
     "text": [
      "100%|██████████████████████████████████████████████████████████████████████| 468/468 [00:01<00:00, 425.99it/s]\n"
     ]
    },
    {
     "name": "stdout",
     "output_type": "stream",
     "text": [
      "train epoch: 2, loss: 0.7181\n",
      "0 loss : 0.3265, return: 0.3655, robust return 0.3264, q std: 0.9050\n",
      "15 loss : 0.3610, return: 0.3578, robust return 0.3208, q std: 0.9090\n",
      "30 loss : 0.4769, return: 0.3354, robust return 0.3055, q std: 0.9152\n",
      "45 loss : 0.6501, return: 0.2994, robust return 0.2853, q std: 0.9197\n",
      "60 loss : 0.7778, return: 0.2716, robust return 0.2724, q std: 0.9180\n",
      "75 loss : 0.7969, return: 0.2699, robust return 0.2690, q std: 0.9174\n"
     ]
    },
    {
     "name": "stderr",
     "output_type": "stream",
     "text": [
      "100%|██████████████████████████████████████████████████████████████████████| 468/468 [00:01<00:00, 416.41it/s]\n"
     ]
    },
    {
     "name": "stdout",
     "output_type": "stream",
     "text": [
      "train epoch: 3, loss: 0.6989\n",
      "0 loss : 0.3307, return: 0.3535, robust return 0.3290, q std: 0.9025\n",
      "15 loss : 0.3674, return: 0.3493, robust return 0.3210, q std: 0.9071\n",
      "30 loss : 0.4761, return: 0.3323, robust return 0.3060, q std: 0.9134\n",
      "45 loss : 0.6394, return: 0.3022, robust return 0.2885, q std: 0.9170\n",
      "60 loss : 0.7665, return: 0.2764, robust return 0.2757, q std: 0.9148\n",
      "75 loss : 0.7924, return: 0.2708, robust return 0.2721, q std: 0.9111\n"
     ]
    },
    {
     "name": "stderr",
     "output_type": "stream",
     "text": [
      "100%|██████████████████████████████████████████████████████████████████████| 468/468 [00:01<00:00, 417.24it/s]\n"
     ]
    },
    {
     "name": "stdout",
     "output_type": "stream",
     "text": [
      "train epoch: 4, loss: 0.6925\n",
      "0 loss : 0.3090, return: 0.3639, robust return 0.3204, q std: 0.8990\n",
      "15 loss : 0.3379, return: 0.3621, robust return 0.3161, q std: 0.9025\n",
      "30 loss : 0.4519, return: 0.3454, robust return 0.3054, q std: 0.9067\n",
      "45 loss : 0.6172, return: 0.3124, robust return 0.2897, q std: 0.9091\n",
      "60 loss : 0.7406, return: 0.2851, robust return 0.2779, q std: 0.9078\n",
      "75 loss : 0.7759, return: 0.2776, robust return 0.2746, q std: 0.9054\n"
     ]
    },
    {
     "name": "stderr",
     "output_type": "stream",
     "text": [
      "100%|██████████████████████████████████████████████████████████████████████| 468/468 [00:01<00:00, 419.80it/s]\n"
     ]
    },
    {
     "name": "stdout",
     "output_type": "stream",
     "text": [
      "train epoch: 5, loss: 0.6891\n",
      "0 loss : 0.2838, return: 0.3584, robust return 0.3241, q std: 0.8926\n",
      "15 loss : 0.3103, return: 0.3567, robust return 0.3203, q std: 0.8955\n",
      "30 loss : 0.4257, return: 0.3423, robust return 0.3071, q std: 0.9009\n",
      "45 loss : 0.6171, return: 0.3075, robust return 0.2884, q std: 0.9037\n",
      "60 loss : 0.7761, return: 0.2744, robust return 0.2749, q std: 0.9027\n",
      "75 loss : 0.8225, return: 0.2661, robust return 0.2703, q std: 0.9005\n"
     ]
    },
    {
     "name": "stderr",
     "output_type": "stream",
     "text": [
      "100%|██████████████████████████████████████████████████████████████████████| 468/468 [00:01<00:00, 418.59it/s]\n"
     ]
    },
    {
     "name": "stdout",
     "output_type": "stream",
     "text": [
      "train epoch: 6, loss: 0.6869\n",
      "0 loss : 0.2638, return: 0.3683, robust return 0.3305, q std: 0.8927\n",
      "15 loss : 0.2991, return: 0.3625, robust return 0.3252, q std: 0.8977\n",
      "30 loss : 0.4317, return: 0.3425, robust return 0.3102, q std: 0.9022\n",
      "45 loss : 0.6218, return: 0.3093, robust return 0.2911, q std: 0.9048\n",
      "60 loss : 0.7612, return: 0.2823, robust return 0.2763, q std: 0.9053\n",
      "75 loss : 0.7984, return: 0.2747, robust return 0.2721, q std: 0.9030\n"
     ]
    },
    {
     "name": "stderr",
     "output_type": "stream",
     "text": [
      "100%|██████████████████████████████████████████████████████████████████████| 468/468 [00:01<00:00, 352.47it/s]\n"
     ]
    },
    {
     "name": "stdout",
     "output_type": "stream",
     "text": [
      "train epoch: 7, loss: 0.6885\n",
      "0 loss : 0.2639, return: 0.3548, robust return 0.3204, q std: 0.8930\n",
      "15 loss : 0.2944, return: 0.3496, robust return 0.3166, q std: 0.8979\n",
      "30 loss : 0.4133, return: 0.3335, robust return 0.3056, q std: 0.9033\n",
      "45 loss : 0.5924, return: 0.3080, robust return 0.2917, q std: 0.9059\n",
      "60 loss : 0.7479, return: 0.2846, robust return 0.2798, q std: 0.9051\n",
      "75 loss : 0.8105, return: 0.2753, robust return 0.2749, q std: 0.9039\n"
     ]
    },
    {
     "name": "stderr",
     "output_type": "stream",
     "text": [
      "100%|██████████████████████████████████████████████████████████████████████| 468/468 [00:01<00:00, 427.02it/s]\n"
     ]
    },
    {
     "name": "stdout",
     "output_type": "stream",
     "text": [
      "train epoch: 8, loss: 0.6841\n",
      "0 loss : 0.2582, return: 0.3759, robust return 0.3270, q std: 0.8903\n",
      "15 loss : 0.2836, return: 0.3720, robust return 0.3239, q std: 0.8929\n",
      "30 loss : 0.4048, return: 0.3522, robust return 0.3118, q std: 0.8971\n",
      "45 loss : 0.5959, return: 0.3143, robust return 0.2945, q std: 0.8998\n",
      "60 loss : 0.7501, return: 0.2819, robust return 0.2801, q std: 0.8988\n",
      "75 loss : 0.8027, return: 0.2703, robust return 0.2749, q std: 0.8969\n"
     ]
    },
    {
     "name": "stderr",
     "output_type": "stream",
     "text": [
      "100%|██████████████████████████████████████████████████████████████████████| 468/468 [00:01<00:00, 418.83it/s]\n"
     ]
    },
    {
     "name": "stdout",
     "output_type": "stream",
     "text": [
      "train epoch: 9, loss: 0.6828\n",
      "0 loss : 0.2465, return: 0.3785, robust return 0.3363, q std: 0.8885\n",
      "15 loss : 0.2724, return: 0.3739, robust return 0.3329, q std: 0.8901\n",
      "30 loss : 0.3869, return: 0.3535, robust return 0.3189, q std: 0.8940\n",
      "45 loss : 0.5843, return: 0.3155, robust return 0.2975, q std: 0.8965\n",
      "60 loss : 0.7617, return: 0.2802, robust return 0.2787, q std: 0.8964\n",
      "75 loss : 0.8320, return: 0.2667, robust return 0.2708, q std: 0.8942\n"
     ]
    },
    {
     "name": "stderr",
     "output_type": "stream",
     "text": [
      "100%|██████████████████████████████████████████████████████████████████████| 468/468 [00:01<00:00, 419.95it/s]\n"
     ]
    },
    {
     "name": "stdout",
     "output_type": "stream",
     "text": [
      "train epoch: 10, loss: 0.6798\n",
      "0 loss : 0.2350, return: 0.3726, robust return 0.3282, q std: 0.8873\n",
      "15 loss : 0.2625, return: 0.3694, robust return 0.3244, q std: 0.8895\n",
      "30 loss : 0.3854, return: 0.3492, robust return 0.3118, q std: 0.8935\n",
      "45 loss : 0.5853, return: 0.3150, robust return 0.2942, q std: 0.8955\n",
      "60 loss : 0.7658, return: 0.2839, robust return 0.2791, q std: 0.8946\n",
      "75 loss : 0.8461, return: 0.2704, robust return 0.2724, q std: 0.8928\n"
     ]
    },
    {
     "name": "stderr",
     "output_type": "stream",
     "text": [
      "100%|██████████████████████████████████████████████████████████████████████| 468/468 [00:02<00:00, 217.66it/s]\n"
     ]
    },
    {
     "name": "stdout",
     "output_type": "stream",
     "text": [
      "train epoch: 1, loss: 0.8254\n",
      "0 loss : 0.5681, return: 0.3363, robust return 0.2948, q std: 0.9438\n",
      "15 loss : 0.5959, return: 0.3269, robust return 0.2916, q std: 0.9473\n",
      "30 loss : 0.6549, return: 0.3094, robust return 0.2845, q std: 0.9515\n",
      "45 loss : 0.7288, return: 0.2872, robust return 0.2751, q std: 0.9519\n",
      "60 loss : 0.7848, return: 0.2676, robust return 0.2684, q std: 0.9492\n",
      "75 loss : 0.7989, return: 0.2642, robust return 0.2666, q std: 0.9475\n"
     ]
    },
    {
     "name": "stderr",
     "output_type": "stream",
     "text": [
      "100%|██████████████████████████████████████████████████████████████████████| 468/468 [00:01<00:00, 417.73it/s]\n"
     ]
    },
    {
     "name": "stdout",
     "output_type": "stream",
     "text": [
      "train epoch: 2, loss: 0.7427\n",
      "0 loss : 0.3982, return: 0.3474, robust return 0.3181, q std: 0.9251\n",
      "15 loss : 0.4304, return: 0.3421, robust return 0.3124, q std: 0.9280\n",
      "30 loss : 0.5248, return: 0.3251, robust return 0.3019, q std: 0.9333\n",
      "45 loss : 0.6691, return: 0.2920, robust return 0.2862, q std: 0.9373\n",
      "60 loss : 0.7786, return: 0.2647, robust return 0.2756, q std: 0.9358\n",
      "75 loss : 0.7979, return: 0.2626, robust return 0.2722, q std: 0.9360\n"
     ]
    },
    {
     "name": "stderr",
     "output_type": "stream",
     "text": [
      "100%|██████████████████████████████████████████████████████████████████████| 468/468 [00:01<00:00, 413.33it/s]\n"
     ]
    },
    {
     "name": "stdout",
     "output_type": "stream",
     "text": [
      "train epoch: 3, loss: 0.7220\n",
      "0 loss : 0.3790, return: 0.3555, robust return 0.3215, q std: 0.9171\n",
      "15 loss : 0.4059, return: 0.3512, robust return 0.3177, q std: 0.9213\n",
      "30 loss : 0.5011, return: 0.3331, robust return 0.3059, q std: 0.9270\n",
      "45 loss : 0.6400, return: 0.3036, robust return 0.2899, q std: 0.9297\n",
      "60 loss : 0.7424, return: 0.2824, robust return 0.2779, q std: 0.9262\n",
      "75 loss : 0.7701, return: 0.2783, robust return 0.2744, q std: 0.9218\n"
     ]
    },
    {
     "name": "stderr",
     "output_type": "stream",
     "text": [
      "100%|██████████████████████████████████████████████████████████████████████| 468/468 [00:01<00:00, 423.47it/s]\n"
     ]
    },
    {
     "name": "stdout",
     "output_type": "stream",
     "text": [
      "train epoch: 4, loss: 0.7163\n",
      "0 loss : 0.3696, return: 0.3594, robust return 0.3082, q std: 0.9143\n",
      "15 loss : 0.3976, return: 0.3566, robust return 0.3038, q std: 0.9177\n",
      "30 loss : 0.5028, return: 0.3356, robust return 0.2959, q std: 0.9220\n",
      "45 loss : 0.6560, return: 0.2990, robust return 0.2853, q std: 0.9238\n",
      "60 loss : 0.7582, return: 0.2731, robust return 0.2777, q std: 0.9219\n",
      "75 loss : 0.7801, return: 0.2703, robust return 0.2750, q std: 0.9196\n"
     ]
    },
    {
     "name": "stderr",
     "output_type": "stream",
     "text": [
      "100%|██████████████████████████████████████████████████████████████████████| 468/468 [00:01<00:00, 421.31it/s]\n"
     ]
    },
    {
     "name": "stdout",
     "output_type": "stream",
     "text": [
      "train epoch: 5, loss: 0.7135\n",
      "0 loss : 0.3200, return: 0.3705, robust return 0.3161, q std: 0.9085\n",
      "15 loss : 0.3454, return: 0.3678, robust return 0.3131, q std: 0.9119\n",
      "30 loss : 0.4516, return: 0.3462, robust return 0.3039, q std: 0.9167\n",
      "45 loss : 0.6157, return: 0.3086, robust return 0.2903, q std: 0.9182\n",
      "60 loss : 0.7496, return: 0.2760, robust return 0.2790, q std: 0.9166\n",
      "75 loss : 0.7974, return: 0.2666, robust return 0.2753, q std: 0.9145\n"
     ]
    },
    {
     "name": "stderr",
     "output_type": "stream",
     "text": [
      "100%|██████████████████████████████████████████████████████████████████████| 468/468 [00:01<00:00, 416.42it/s]\n"
     ]
    },
    {
     "name": "stdout",
     "output_type": "stream",
     "text": [
      "train epoch: 6, loss: 0.7111\n",
      "0 loss : 0.3085, return: 0.3585, robust return 0.3174, q std: 0.9105\n",
      "15 loss : 0.3438, return: 0.3526, robust return 0.3125, q std: 0.9142\n",
      "30 loss : 0.4650, return: 0.3311, robust return 0.3010, q std: 0.9170\n",
      "45 loss : 0.6261, return: 0.3037, robust return 0.2863, q std: 0.9179\n",
      "60 loss : 0.7479, return: 0.2829, robust return 0.2756, q std: 0.9168\n",
      "75 loss : 0.7902, return: 0.2756, robust return 0.2725, q std: 0.9135\n"
     ]
    },
    {
     "name": "stderr",
     "output_type": "stream",
     "text": [
      "100%|██████████████████████████████████████████████████████████████████████| 468/468 [00:01<00:00, 419.16it/s]\n"
     ]
    },
    {
     "name": "stdout",
     "output_type": "stream",
     "text": [
      "train epoch: 7, loss: 0.7135\n",
      "0 loss : 0.3100, return: 0.3555, robust return 0.2989, q std: 0.9099\n",
      "15 loss : 0.3381, return: 0.3515, robust return 0.2966, q std: 0.9135\n",
      "30 loss : 0.4358, return: 0.3356, robust return 0.2928, q std: 0.9188\n",
      "45 loss : 0.5999, return: 0.3077, robust return 0.2854, q std: 0.9207\n",
      "60 loss : 0.7498, return: 0.2822, robust return 0.2776, q std: 0.9181\n",
      "75 loss : 0.8004, return: 0.2735, robust return 0.2748, q std: 0.9154\n"
     ]
    },
    {
     "name": "stderr",
     "output_type": "stream",
     "text": [
      "100%|██████████████████████████████████████████████████████████████████████| 468/468 [00:01<00:00, 419.68it/s]\n"
     ]
    },
    {
     "name": "stdout",
     "output_type": "stream",
     "text": [
      "train epoch: 8, loss: 0.7094\n",
      "0 loss : 0.3104, return: 0.3510, robust return 0.3136, q std: 0.9087\n",
      "15 loss : 0.3299, return: 0.3485, robust return 0.3106, q std: 0.9110\n",
      "30 loss : 0.4277, return: 0.3336, robust return 0.3021, q std: 0.9161\n",
      "45 loss : 0.5827, return: 0.3081, robust return 0.2911, q std: 0.9198\n",
      "60 loss : 0.7139, return: 0.2873, robust return 0.2809, q std: 0.9182\n",
      "75 loss : 0.7795, return: 0.2784, robust return 0.2760, q std: 0.9142\n"
     ]
    },
    {
     "name": "stderr",
     "output_type": "stream",
     "text": [
      "100%|██████████████████████████████████████████████████████████████████████| 468/468 [00:01<00:00, 393.28it/s]\n"
     ]
    },
    {
     "name": "stdout",
     "output_type": "stream",
     "text": [
      "train epoch: 9, loss: 0.7083\n",
      "0 loss : 0.3002, return: 0.3548, robust return 0.3257, q std: 0.9066\n",
      "15 loss : 0.3274, return: 0.3510, robust return 0.3213, q std: 0.9083\n",
      "30 loss : 0.4384, return: 0.3321, robust return 0.3080, q std: 0.9130\n",
      "45 loss : 0.6121, return: 0.2994, robust return 0.2896, q std: 0.9160\n",
      "60 loss : 0.7586, return: 0.2709, robust return 0.2746, q std: 0.9157\n",
      "75 loss : 0.8086, return: 0.2614, robust return 0.2696, q std: 0.9125\n"
     ]
    },
    {
     "name": "stderr",
     "output_type": "stream",
     "text": [
      "100%|██████████████████████████████████████████████████████████████████████| 468/468 [00:01<00:00, 418.81it/s]\n"
     ]
    },
    {
     "name": "stdout",
     "output_type": "stream",
     "text": [
      "train epoch: 10, loss: 0.7060\n",
      "0 loss : 0.2905, return: 0.3547, robust return 0.3189, q std: 0.9060\n",
      "15 loss : 0.3171, return: 0.3483, robust return 0.3154, q std: 0.9085\n",
      "30 loss : 0.4309, return: 0.3298, robust return 0.3039, q std: 0.9130\n",
      "45 loss : 0.6015, return: 0.3052, robust return 0.2893, q std: 0.9152\n",
      "60 loss : 0.7487, return: 0.2836, robust return 0.2767, q std: 0.9144\n",
      "75 loss : 0.8075, return: 0.2750, robust return 0.2724, q std: 0.9122\n"
     ]
    }
   ],
   "source": [
    "# ! CUDA_VISIBLE_DEVICES=1\n",
    "rotations = np.array([0, 15, 30, 45, 60, 75]).astype(int)\n",
    "train_ds, test_ds = get_datasets(rotations)\n",
    "rng = jax.random.PRNGKey(0)\n",
    "# noise_probs = [0.1*_ for _ in range(11)]\n",
    "# kl_coeffs = [0, 0.0005, 0.001, 0.002, 0.0025, 0.0035, 0.005, 0.006, 0.0075, 0.009, 0.01, 0.02, 0.04, 0.08, 0.16]\n",
    "# kl_coeffs = [0, 0.1, 0.2, 0.3, 0.4, 0.5]\n",
    "kl_coeffs = [0.05*_ for _ in range(10)]\n",
    "policy_avg_return_all = []\n",
    "robust_policy_avg_return_all = []\n",
    "q_std_all = []\n",
    "for kl_coeff in kl_coeffs:\n",
    "    state2 = train(train_ds, test_ds, rotations, kl_coeff)\n",
    "    policy_avg_return_per_kl_coeff = []\n",
    "    robust_policy_avg_return_per_kl_coeff = []\n",
    "    q_std_per_kl_coeff = []\n",
    "    for rotation in rotations:\n",
    "        rng, input_rng = jax.random.split(rng)\n",
    "        test_loss, policy_avg_return, robust_policy_avg_return, q_std = evaluate_model(input_rng, state2, test_ds['image'+str(rotation)], test_ds['label'])\n",
    "        policy_avg_return_per_kl_coeff.append(float(policy_avg_return))\n",
    "        robust_policy_avg_return_per_kl_coeff.append(float(robust_policy_avg_return))\n",
    "        q_std_per_kl_coeff.append(float(q_std))\n",
    "    policy_avg_return_all.append(policy_avg_return_per_kl_coeff)\n",
    "    robust_policy_avg_return_all.append(robust_policy_avg_return_per_kl_coeff)\n",
    "    q_std_all.append(q_std_per_kl_coeff)\n",
    "    \n",
    "    \n",
    "    \n",
    "    "
   ]
  },
  {
   "cell_type": "code",
   "execution_count": 3,
   "id": "026fb2f7",
   "metadata": {},
   "outputs": [
    {
     "data": {
      "image/png": "[encoded data removed]",
      "text/plain": [
       "<Figure size 600x2400 with 6 Axes>"
      ]
     },
     "metadata": {},
     "output_type": "display_data"
    }
   ],
   "source": [
    "f, axs = plt.subplots(len(rotations), 1, sharey=True, sharex=True, figsize=(6,4*len(rotations)))\n",
    "\n",
    "policy_avg_return_plot = np.array(robust_policy_avg_return_all)\n",
    "kl_coeffs = np.array(kl_coeffs)\n",
    "for i in range(len(rotations)):\n",
    "    rotation = rotations[i]\n",
    "    axs[i].plot(kl_coeffs, 0.8 - policy_avg_return_plot[:, i])\n",
    "#     axs[i].plot(noise_probs, (0.8-baseline_policy_avg_return_per_noise_prob[i])*np.ones(noise_probs.shape), label = \"Normal\")\n",
    "    axs[i].set_xlabel(\"KL Coeff\")\n",
    "    axs[i].set_ylabel(\"Regret\")\n",
    "    axs[i].set_title(\"Rotation: \"+str(rotation))\n",
    "# axs[i].legend()"
   ]
  },
  {
   "cell_type": "code",
   "execution_count": 6,
   "id": "9382fda0",
   "metadata": {},
   "outputs": [
    {
     "data": {
      "text/plain": [
       "<matplotlib.legend.Legend at 0x7f50c837d4e0>"
      ]
     },
     "execution_count": 6,
     "metadata": {},
     "output_type": "execute_result"
    },
    {
     "data": {
      "image/png": "[encoded data removed]",
      "text/plain": [
       "<Figure size 640x480 with 1 Axes>"
      ]
     },
     "metadata": {},
     "output_type": "display_data"
    }
   ],
   "source": [
    "# baseline_policy_avg_return_per_kl_coeff=np.array(baseline_policy_avg_return_per_kl_coeff)\n",
    "plt.plot(rotations, 0.8-policy_avg_return_plot[0, :], label = \"Normal\")\n",
    "plt.plot(rotations, 0.8-np.max(policy_avg_return_plot, axis=0), label = \"Noisy (best over noise widths)\")\n",
    "plt.plot(rotations, 0.8*np.ones(rotations.shape), label = \"Blind\")\n",
    "\n",
    "# plt.ylim(0, 0.8)\n",
    "plt.xlabel(\"Rotation\")\n",
    "plt.ylabel(\"Best Regret (Over Noise Widths)\")\n",
    "plt.legend()"
   ]
  },
  {
   "cell_type": "code",
   "execution_count": null,
   "id": "25518d8b",
   "metadata": {},
   "outputs": [],
   "source": []
  }
 ],
 "metadata": {
  "kernelspec": {
   "display_name": "Python 3 (ipykernel)",
   "language": "python",
   "name": "python3"
  },
  "language_info": {
   "codemirror_mode": {
    "name": "ipython",
    "version": 3
   },
   "file_extension": ".py",
   "mimetype": "text/x-python",
   "name": "python",
   "nbconvert_exporter": "python",
   "pygments_lexer": "ipython3",
   "version": "3.10.4"
  }
 },
 "nbformat": 4,
 "nbformat_minor": 5
}
