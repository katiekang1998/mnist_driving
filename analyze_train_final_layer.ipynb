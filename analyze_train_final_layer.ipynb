{
 "cells": [
  {
   "cell_type": "code",
   "execution_count": 1,
   "id": "758851d0",
   "metadata": {},
   "outputs": [
    {
     "name": "stderr",
     "output_type": "stream",
     "text": [
      "2022-12-18 17:42:57.446237: E tensorflow/stream_executor/cuda/cuda_blas.cc:2981] Unable to register cuBLAS factory: Attempting to register factory for plugin cuBLAS when one has already been registered\n",
      "2022-12-18 17:42:57.970969: W tensorflow/stream_executor/platform/default/dso_loader.cc:64] Could not load dynamic library 'libnvinfer.so.7'; dlerror: libnvinfer.so.7: cannot open shared object file: No such file or directory; LD_LIBRARY_PATH: /usr/local/cuda-11.7/lib64:/home/katie/.mujoco/mujoco210/bin:/home/katie/.mujoco/mjpro150/bin:/usr/lib/nvidia\n",
      "2022-12-18 17:42:57.971078: W tensorflow/stream_executor/platform/default/dso_loader.cc:64] Could not load dynamic library 'libnvinfer_plugin.so.7'; dlerror: libnvinfer_plugin.so.7: cannot open shared object file: No such file or directory; LD_LIBRARY_PATH: /usr/local/cuda-11.7/lib64:/home/katie/.mujoco/mujoco210/bin:/home/katie/.mujoco/mjpro150/bin:/usr/lib/nvidia\n",
      "2022-12-18 17:42:57.971086: W tensorflow/compiler/tf2tensorrt/utils/py_utils.cc:38] TF-TRT Warning: Cannot dlopen some TensorRT libraries. If you would like to use Nvidia GPU with TensorRT, please make sure the missing libraries mentioned above are installed properly.\n",
      "/home/katie/miniconda3/envs/jaxrl5/lib/python3.10/site-packages/tqdm/auto.py:22: TqdmWarning: IProgress not found. Please update jupyter and ipywidgets. See https://ipywidgets.readthedocs.io/en/stable/user_install.html\n",
      "  from .autonotebook import tqdm as notebook_tqdm\n"
     ]
    }
   ],
   "source": [
    "import matplotlib.pyplot as plt\n",
    "from train_stochastic_encoder import *\n",
    "import numpy as np\n",
    "import jax.numpy as jnp\n",
    "import jax"
   ]
  },
  {
   "cell_type": "code",
   "execution_count": 2,
   "id": "7acf110b",
   "metadata": {},
   "outputs": [
    {
     "name": "stderr",
     "output_type": "stream",
     "text": [
      "100%|██████████████████████████████████████████████████████████████████████| 468/468 [00:03<00:00, 126.54it/s]\n"
     ]
    },
    {
     "name": "stdout",
     "output_type": "stream",
     "text": [
      "train epoch: 1, loss: 0.6965\n",
      "0 loss : 0.2042, return: 0.2608, robust return 0.1744, q std: 0.7782\n",
      "15 loss : 0.2691, return: 0.2142, robust return 0.1562, q std: 0.7875\n",
      "30 loss : 0.4505, return: 0.1074, robust return 0.1133, q std: 0.7968\n",
      "45 loss : 0.7012, return: -0.0381, robust return 0.0562, q std: 0.8052\n",
      "60 loss : 0.8676, return: -0.1105, robust return 0.0196, q std: 0.8064\n",
      "75 loss : 0.9244, return: -0.1394, robust return 0.0084, q std: 0.8065\n"
     ]
    },
    {
     "name": "stderr",
     "output_type": "stream",
     "text": [
      "100%|██████████████████████████████████████████████████████████████████████| 468/468 [00:01<00:00, 431.03it/s]\n"
     ]
    },
    {
     "name": "stdout",
     "output_type": "stream",
     "text": [
      "train epoch: 2, loss: 0.4229\n",
      "0 loss : 0.1363, return: 0.3901, robust return 0.2212, q std: 0.7795\n",
      "15 loss : 0.1889, return: 0.3448, robust return 0.1921, q std: 0.7870\n",
      "30 loss : 0.3530, return: 0.1923, robust return 0.1454, q std: 0.7943\n",
      "45 loss : 0.5891, return: -0.0237, robust return 0.0883, q std: 0.8004\n",
      "60 loss : 0.7998, return: -0.1971, robust return 0.0397, q std: 0.8031\n",
      "75 loss : 0.9005, return: -0.2879, robust return 0.0176, q std: 0.8017\n"
     ]
    },
    {
     "name": "stderr",
     "output_type": "stream",
     "text": [
      "100%|██████████████████████████████████████████████████████████████████████| 468/468 [00:01<00:00, 416.60it/s]\n"
     ]
    },
    {
     "name": "stdout",
     "output_type": "stream",
     "text": [
      "train epoch: 3, loss: 0.3939\n",
      "0 loss : 0.1209, return: 0.4164, robust return 0.2934, q std: 0.7769\n",
      "15 loss : 0.1596, return: 0.3787, robust return 0.2564, q std: 0.7798\n",
      "30 loss : 0.3133, return: 0.2338, robust return 0.1829, q std: 0.7838\n",
      "45 loss : 0.5657, return: -0.0074, robust return 0.0806, q std: 0.7879\n",
      "60 loss : 0.8054, return: -0.2253, robust return -0.0057, q std: 0.7905\n",
      "75 loss : 0.9197, return: -0.3193, robust return -0.0460, q std: 0.7904\n"
     ]
    },
    {
     "name": "stderr",
     "output_type": "stream",
     "text": [
      "100%|██████████████████████████████████████████████████████████████████████| 468/468 [00:01<00:00, 426.43it/s]\n"
     ]
    },
    {
     "name": "stdout",
     "output_type": "stream",
     "text": [
      "train epoch: 4, loss: 0.3802\n",
      "0 loss : 0.1051, return: 0.4486, robust return 0.3240, q std: 0.7776\n",
      "15 loss : 0.1499, return: 0.3990, robust return 0.2757, q std: 0.7807\n",
      "30 loss : 0.3291, return: 0.1858, robust return 0.1909, q std: 0.7849\n",
      "45 loss : 0.5836, return: -0.1223, robust return 0.0917, q std: 0.7875\n",
      "60 loss : 0.7959, return: -0.3672, robust return 0.0184, q std: 0.7897\n",
      "75 loss : 0.9016, return: -0.4691, robust return -0.0147, q std: 0.7903\n"
     ]
    },
    {
     "name": "stderr",
     "output_type": "stream",
     "text": [
      "100%|██████████████████████████████████████████████████████████████████████| 468/468 [00:01<00:00, 425.85it/s]\n"
     ]
    },
    {
     "name": "stdout",
     "output_type": "stream",
     "text": [
      "train epoch: 5, loss: 0.3735\n",
      "0 loss : 0.1002, return: 0.4655, robust return 0.3270, q std: 0.7737\n",
      "15 loss : 0.1364, return: 0.4194, robust return 0.2926, q std: 0.7760\n",
      "30 loss : 0.2941, return: 0.2147, robust return 0.2067, q std: 0.7788\n",
      "45 loss : 0.5599, return: -0.1430, robust return 0.0838, q std: 0.7821\n",
      "60 loss : 0.8295, return: -0.4912, robust return -0.0217, q std: 0.7825\n",
      "75 loss : 1.0061, return: -0.7115, robust return -0.0923, q std: 0.7815\n"
     ]
    },
    {
     "name": "stderr",
     "output_type": "stream",
     "text": [
      "100%|██████████████████████████████████████████████████████████████████████| 468/468 [00:01<00:00, 426.24it/s]\n"
     ]
    },
    {
     "name": "stdout",
     "output_type": "stream",
     "text": [
      "train epoch: 6, loss: 0.3668\n",
      "0 loss : 0.0990, return: 0.4974, robust return 0.3614, q std: 0.7770\n",
      "15 loss : 0.1529, return: 0.4224, robust return 0.3167, q std: 0.7772\n",
      "30 loss : 0.3300, return: 0.1432, robust return 0.2013, q std: 0.7794\n",
      "45 loss : 0.5841, return: -0.2519, robust return 0.0600, q std: 0.7806\n",
      "60 loss : 0.8008, return: -0.5502, robust return -0.0355, q std: 0.7811\n",
      "75 loss : 0.9242, return: -0.6913, robust return -0.0911, q std: 0.7810\n"
     ]
    },
    {
     "name": "stderr",
     "output_type": "stream",
     "text": [
      "100%|██████████████████████████████████████████████████████████████████████| 468/468 [00:01<00:00, 423.16it/s]\n"
     ]
    },
    {
     "name": "stdout",
     "output_type": "stream",
     "text": [
      "train epoch: 7, loss: 0.3626\n",
      "0 loss : 0.0843, return: 0.5030, robust return 0.3609, q std: 0.7752\n",
      "15 loss : 0.1245, return: 0.4478, robust return 0.3196, q std: 0.7768\n",
      "30 loss : 0.2862, return: 0.2034, robust return 0.2281, q std: 0.7801\n",
      "45 loss : 0.5541, return: -0.2330, robust return 0.1035, q std: 0.7815\n",
      "60 loss : 0.8264, return: -0.6653, robust return -0.0088, q std: 0.7804\n",
      "75 loss : 0.9975, return: -0.8808, robust return -0.0692, q std: 0.7794\n"
     ]
    },
    {
     "name": "stderr",
     "output_type": "stream",
     "text": [
      "100%|██████████████████████████████████████████████████████████████████████| 468/468 [00:01<00:00, 428.59it/s]\n"
     ]
    },
    {
     "name": "stdout",
     "output_type": "stream",
     "text": [
      "train epoch: 8, loss: 0.3576\n",
      "0 loss : 0.0810, return: 0.5299, robust return 0.3836, q std: 0.7763\n",
      "15 loss : 0.1288, return: 0.4544, robust return 0.3430, q std: 0.7779\n",
      "30 loss : 0.2947, return: 0.1811, robust return 0.2444, q std: 0.7816\n",
      "45 loss : 0.5517, return: -0.3088, robust return 0.1018, q std: 0.7836\n",
      "60 loss : 0.8007, return: -0.7405, robust return -0.0161, q std: 0.7838\n",
      "75 loss : 0.9513, return: -0.9654, robust return -0.0730, q std: 0.7818\n"
     ]
    },
    {
     "name": "stderr",
     "output_type": "stream",
     "text": [
      "100%|██████████████████████████████████████████████████████████████████████| 468/468 [00:01<00:00, 418.27it/s]\n"
     ]
    },
    {
     "name": "stdout",
     "output_type": "stream",
     "text": [
      "train epoch: 9, loss: 0.3540\n",
      "0 loss : 0.0861, return: 0.5688, robust return 0.3844, q std: 0.7819\n",
      "15 loss : 0.1257, return: 0.4938, robust return 0.3435, q std: 0.7835\n",
      "30 loss : 0.2848, return: 0.1715, robust return 0.2418, q std: 0.7868\n",
      "45 loss : 0.5431, return: -0.3829, robust return 0.0987, q std: 0.7885\n",
      "60 loss : 0.8394, return: -0.9406, robust return -0.0493, q std: 0.7877\n",
      "75 loss : 1.0238, return: -1.2620, robust return -0.1281, q std: 0.7846\n"
     ]
    },
    {
     "name": "stderr",
     "output_type": "stream",
     "text": [
      "100%|██████████████████████████████████████████████████████████████████████| 468/468 [00:01<00:00, 428.65it/s]\n"
     ]
    },
    {
     "name": "stdout",
     "output_type": "stream",
     "text": [
      "train epoch: 10, loss: 0.3492\n",
      "0 loss : 0.0851, return: 0.5858, robust return 0.3810, q std: 0.7785\n",
      "15 loss : 0.1190, return: 0.5172, robust return 0.3377, q std: 0.7801\n",
      "30 loss : 0.2692, return: 0.2050, robust return 0.2379, q std: 0.7832\n",
      "45 loss : 0.5337, return: -0.3979, robust return 0.0979, q std: 0.7839\n",
      "60 loss : 0.8213, return: -1.0486, robust return -0.0268, q std: 0.7824\n",
      "75 loss : 1.0048, return: -1.4162, robust return -0.1070, q std: 0.7800\n"
     ]
    },
    {
     "name": "stderr",
     "output_type": "stream",
     "text": [
      "100%|██████████████████████████████████████████████████████████████████████| 468/468 [00:01<00:00, 425.15it/s]\n"
     ]
    },
    {
     "name": "stdout",
     "output_type": "stream",
     "text": [
      "train epoch: 11, loss: 0.3468\n",
      "0 loss : 0.0660, return: 0.5906, robust return 0.4045, q std: 0.7816\n",
      "15 loss : 0.1018, return: 0.5268, robust return 0.3663, q std: 0.7838\n",
      "30 loss : 0.2591, return: 0.2159, robust return 0.2629, q std: 0.7867\n",
      "45 loss : 0.5231, return: -0.3497, robust return 0.1194, q std: 0.7884\n",
      "60 loss : 0.8088, return: -0.9565, robust return -0.0346, q std: 0.7870\n",
      "75 loss : 0.9974, return: -1.3308, robust return -0.1255, q std: 0.7847\n"
     ]
    },
    {
     "name": "stderr",
     "output_type": "stream",
     "text": [
      "100%|██████████████████████████████████████████████████████████████████████| 468/468 [00:01<00:00, 418.56it/s]\n"
     ]
    },
    {
     "name": "stdout",
     "output_type": "stream",
     "text": [
      "train epoch: 12, loss: 0.3419\n",
      "0 loss : 0.0718, return: 0.5852, robust return 0.4099, q std: 0.7812\n",
      "15 loss : 0.1074, return: 0.5062, robust return 0.3633, q std: 0.7822\n",
      "30 loss : 0.2622, return: 0.1738, robust return 0.2549, q std: 0.7868\n",
      "45 loss : 0.5331, return: -0.4521, robust return 0.1106, q std: 0.7873\n",
      "60 loss : 0.7983, return: -1.0607, robust return -0.0126, q std: 0.7856\n",
      "75 loss : 0.9975, return: -1.5377, robust return -0.1018, q std: 0.7841\n"
     ]
    },
    {
     "name": "stderr",
     "output_type": "stream",
     "text": [
      "100%|██████████████████████████████████████████████████████████████████████| 468/468 [00:01<00:00, 417.19it/s]\n"
     ]
    },
    {
     "name": "stdout",
     "output_type": "stream",
     "text": [
      "train epoch: 13, loss: 0.3377\n",
      "0 loss : 0.0624, return: 0.6164, robust return 0.4408, q std: 0.7772\n",
      "15 loss : 0.0992, return: 0.5403, robust return 0.4013, q std: 0.7778\n",
      "30 loss : 0.2608, return: 0.1894, robust return 0.2699, q std: 0.7788\n",
      "45 loss : 0.5277, return: -0.4241, robust return 0.0772, q std: 0.7784\n",
      "60 loss : 0.7998, return: -1.0853, robust return -0.0799, q std: 0.7756\n",
      "75 loss : 0.9791, return: -1.4840, robust return -0.1746, q std: 0.7738\n"
     ]
    },
    {
     "name": "stderr",
     "output_type": "stream",
     "text": [
      "100%|██████████████████████████████████████████████████████████████████████| 468/468 [00:01<00:00, 396.99it/s]\n"
     ]
    },
    {
     "name": "stdout",
     "output_type": "stream",
     "text": [
      "train epoch: 14, loss: 0.3343\n",
      "0 loss : 0.0665, return: 0.6290, robust return 0.4375, q std: 0.7797\n",
      "15 loss : 0.0984, return: 0.5571, robust return 0.3923, q std: 0.7816\n",
      "30 loss : 0.2683, return: 0.1779, robust return 0.2618, q std: 0.7839\n",
      "45 loss : 0.5434, return: -0.4708, robust return 0.0819, q std: 0.7838\n",
      "60 loss : 0.8129, return: -1.1313, robust return -0.0637, q std: 0.7804\n",
      "75 loss : 0.9960, return: -1.5550, robust return -0.1494, q std: 0.7766\n"
     ]
    },
    {
     "name": "stderr",
     "output_type": "stream",
     "text": [
      "100%|██████████████████████████████████████████████████████████████████████| 468/468 [00:01<00:00, 421.60it/s]\n"
     ]
    },
    {
     "name": "stdout",
     "output_type": "stream",
     "text": [
      "train epoch: 15, loss: 0.3321\n",
      "0 loss : 0.0561, return: 0.6228, robust return 0.4408, q std: 0.7765\n",
      "15 loss : 0.0946, return: 0.5416, robust return 0.3933, q std: 0.7779\n",
      "30 loss : 0.2746, return: 0.1615, robust return 0.2560, q std: 0.7793\n",
      "45 loss : 0.5484, return: -0.4812, robust return 0.0637, q std: 0.7800\n",
      "60 loss : 0.7970, return: -1.0641, robust return -0.0912, q std: 0.7777\n",
      "75 loss : 0.9400, return: -1.3807, robust return -0.1603, q std: 0.7751\n"
     ]
    },
    {
     "name": "stderr",
     "output_type": "stream",
     "text": [
      "100%|██████████████████████████████████████████████████████████████████████| 468/468 [00:01<00:00, 420.62it/s]\n"
     ]
    },
    {
     "name": "stdout",
     "output_type": "stream",
     "text": [
      "train epoch: 16, loss: 0.3296\n",
      "0 loss : 0.0641, return: 0.6268, robust return 0.3646, q std: 0.7822\n",
      "15 loss : 0.0960, return: 0.5528, robust return 0.3303, q std: 0.7830\n",
      "30 loss : 0.2449, return: 0.2245, robust return 0.2268, q std: 0.7851\n",
      "45 loss : 0.5051, return: -0.4325, robust return 0.0993, q std: 0.7852\n",
      "60 loss : 0.7879, return: -1.2021, robust return -0.0112, q std: 0.7828\n",
      "75 loss : 0.9931, return: -1.6923, robust return -0.0861, q std: 0.7787\n"
     ]
    },
    {
     "name": "stderr",
     "output_type": "stream",
     "text": [
      "100%|██████████████████████████████████████████████████████████████████████| 468/468 [00:01<00:00, 425.17it/s]\n"
     ]
    },
    {
     "name": "stdout",
     "output_type": "stream",
     "text": [
      "train epoch: 17, loss: 0.3286\n",
      "0 loss : 0.0559, return: 0.6991, robust return 0.4411, q std: 0.7783\n",
      "15 loss : 0.0927, return: 0.6057, robust return 0.3992, q std: 0.7786\n",
      "30 loss : 0.2572, return: 0.1750, robust return 0.2670, q std: 0.7806\n",
      "45 loss : 0.5389, return: -0.6261, robust return 0.0700, q std: 0.7809\n",
      "60 loss : 0.8255, return: -1.4267, robust return -0.1106, q std: 0.7781\n",
      "75 loss : 1.0038, return: -1.8888, robust return -0.2071, q std: 0.7749\n"
     ]
    },
    {
     "name": "stderr",
     "output_type": "stream",
     "text": [
      "100%|██████████████████████████████████████████████████████████████████████| 468/468 [00:01<00:00, 425.12it/s]\n"
     ]
    },
    {
     "name": "stdout",
     "output_type": "stream",
     "text": [
      "train epoch: 18, loss: 0.3272\n",
      "0 loss : 0.0553, return: 0.6969, robust return 0.3927, q std: 0.7797\n",
      "15 loss : 0.0911, return: 0.6016, robust return 0.3579, q std: 0.7804\n",
      "30 loss : 0.2470, return: 0.1789, robust return 0.2492, q std: 0.7817\n",
      "45 loss : 0.5078, return: -0.5680, robust return 0.1106, q std: 0.7821\n",
      "60 loss : 0.7786, return: -1.3706, robust return -0.0173, q std: 0.7797\n",
      "75 loss : 0.9636, return: -1.8879, robust return -0.0869, q std: 0.7765\n"
     ]
    },
    {
     "name": "stderr",
     "output_type": "stream",
     "text": [
      "100%|██████████████████████████████████████████████████████████████████████| 468/468 [00:01<00:00, 420.70it/s]\n"
     ]
    },
    {
     "name": "stdout",
     "output_type": "stream",
     "text": [
      "train epoch: 19, loss: 0.3267\n",
      "0 loss : 0.0560, return: 0.6964, robust return 0.4177, q std: 0.7789\n",
      "15 loss : 0.0876, return: 0.6129, robust return 0.3833, q std: 0.7787\n",
      "30 loss : 0.2530, return: 0.1462, robust return 0.2596, q std: 0.7805\n",
      "45 loss : 0.5373, return: -0.7093, robust return 0.0743, q std: 0.7809\n",
      "60 loss : 0.8173, return: -1.5808, robust return -0.0802, q std: 0.7780\n",
      "75 loss : 0.9715, return: -1.9990, robust return -0.1527, q std: 0.7741\n"
     ]
    },
    {
     "name": "stderr",
     "output_type": "stream",
     "text": [
      "100%|██████████████████████████████████████████████████████████████████████| 468/468 [00:01<00:00, 398.64it/s]\n"
     ]
    },
    {
     "name": "stdout",
     "output_type": "stream",
     "text": [
      "train epoch: 20, loss: 0.3254\n",
      "0 loss : 0.0518, return: 0.6912, robust return 0.4761, q std: 0.7778\n",
      "15 loss : 0.0865, return: 0.5997, robust return 0.4296, q std: 0.7784\n",
      "30 loss : 0.2495, return: 0.1506, robust return 0.2873, q std: 0.7795\n",
      "45 loss : 0.5156, return: -0.6486, robust return 0.0866, q std: 0.7815\n",
      "60 loss : 0.7989, return: -1.5168, robust return -0.0936, q std: 0.7785\n",
      "75 loss : 0.9875, return: -2.1014, robust return -0.2027, q std: 0.7765\n"
     ]
    }
   ],
   "source": [
    "! CUDA_VISIBLE_DEVICES=0\n",
    "kl_coeff = 0.1\n",
    "rotations = np.array([0, 15, 30, 45, 60, 75]).astype(int)\n",
    "train_ds, test_ds = get_datasets(rotations)\n",
    "state = train(train_ds, test_ds, rotations, kl_coeff)"
   ]
  },
  {
   "cell_type": "code",
   "execution_count": 3,
   "id": "17779b17",
   "metadata": {},
   "outputs": [
    {
     "data": {
      "text/plain": [
       "<matplotlib.legend.Legend at 0x7f3350063d60>"
      ]
     },
     "execution_count": 3,
     "metadata": {},
     "output_type": "execute_result"
    },
    {
     "data": {
      "image/png": "[encoded data removed]",
      "text/plain": [
       "<Figure size 600x2400 with 6 Axes>"
      ]
     },
     "metadata": {},
     "output_type": "display_data"
    }
   ],
   "source": [
    "encoder_state, _ = state\n",
    "f, axs = plt.subplots(len(rotations), 1, sharey=True, sharex=True, figsize=(6,4*len(rotations)))\n",
    "\n",
    "representation_idx = 0\n",
    "for i in range(len(rotations)):\n",
    "    rotation = rotations[i]\n",
    "    z = encoder_state.apply_fn(\n",
    "    {\n",
    "        'params': encoder_state.params,\n",
    "    },\n",
    "    test_ds['image'+str(rotations[i])])\n",
    "    z = z.mean(0)\n",
    "\n",
    "    digits = [_ for _ in range(10)]\n",
    "    axs[i].set_title(str(rotation))\n",
    "    for digit in digits:\n",
    "        representations = jnp.asarray(z)[np.where(test_ds['label']==digit)]\n",
    "        axs[i].hist(representations[:, representation_idx], label = str(digit), alpha=0.5)\n",
    "        axs[i].axvline(x = np.mean(representations[:, representation_idx]), c = 'C'+str(digit))\n",
    "axs[i].legend()"
   ]
  },
  {
   "cell_type": "code",
   "execution_count": 3,
   "id": "50cda647",
   "metadata": {},
   "outputs": [
    {
     "name": "stderr",
     "output_type": "stream",
     "text": [
      "100%|██████████████████████████████████████████████████████████████████████| 468/468 [00:01<00:00, 298.95it/s]\n"
     ]
    },
    {
     "name": "stdout",
     "output_type": "stream",
     "text": [
      "train epoch: 1, loss: 0.2987\n"
     ]
    },
    {
     "name": "stderr",
     "output_type": "stream",
     "text": [
      "100%|██████████████████████████████████████████████████████████████████████| 468/468 [00:01<00:00, 448.88it/s]\n"
     ]
    },
    {
     "name": "stdout",
     "output_type": "stream",
     "text": [
      "train epoch: 2, loss: 0.0717\n"
     ]
    },
    {
     "name": "stderr",
     "output_type": "stream",
     "text": [
      "100%|██████████████████████████████████████████████████████████████████████| 468/468 [00:01<00:00, 450.85it/s]\n"
     ]
    },
    {
     "name": "stdout",
     "output_type": "stream",
     "text": [
      "train epoch: 3, loss: 0.0486\n"
     ]
    },
    {
     "name": "stderr",
     "output_type": "stream",
     "text": [
      "100%|██████████████████████████████████████████████████████████████████████| 468/468 [00:01<00:00, 466.23it/s]\n"
     ]
    },
    {
     "name": "stdout",
     "output_type": "stream",
     "text": [
      "train epoch: 4, loss: 0.0432\n"
     ]
    },
    {
     "name": "stderr",
     "output_type": "stream",
     "text": [
      "100%|██████████████████████████████████████████████████████████████████████| 468/468 [00:00<00:00, 477.21it/s]\n"
     ]
    },
    {
     "name": "stdout",
     "output_type": "stream",
     "text": [
      "train epoch: 5, loss: 0.0407\n"
     ]
    },
    {
     "name": "stderr",
     "output_type": "stream",
     "text": [
      "100%|██████████████████████████████████████████████████████████████████████| 468/468 [00:00<00:00, 469.76it/s]\n"
     ]
    },
    {
     "name": "stdout",
     "output_type": "stream",
     "text": [
      "train epoch: 6, loss: 0.0389\n"
     ]
    },
    {
     "name": "stderr",
     "output_type": "stream",
     "text": [
      "100%|██████████████████████████████████████████████████████████████████████| 468/468 [00:01<00:00, 463.56it/s]\n"
     ]
    },
    {
     "name": "stdout",
     "output_type": "stream",
     "text": [
      "train epoch: 7, loss: 0.0377\n"
     ]
    },
    {
     "name": "stderr",
     "output_type": "stream",
     "text": [
      "100%|██████████████████████████████████████████████████████████████████████| 468/468 [00:00<00:00, 482.20it/s]\n"
     ]
    },
    {
     "name": "stdout",
     "output_type": "stream",
     "text": [
      "train epoch: 8, loss: 0.0364\n"
     ]
    },
    {
     "name": "stderr",
     "output_type": "stream",
     "text": [
      "100%|██████████████████████████████████████████████████████████████████████| 468/468 [00:01<00:00, 464.99it/s]\n"
     ]
    },
    {
     "name": "stdout",
     "output_type": "stream",
     "text": [
      "train epoch: 9, loss: 0.0351\n"
     ]
    },
    {
     "name": "stderr",
     "output_type": "stream",
     "text": [
      "100%|██████████████████████████████████████████████████████████████████████| 468/468 [00:01<00:00, 467.82it/s]\n"
     ]
    },
    {
     "name": "stdout",
     "output_type": "stream",
     "text": [
      "train epoch: 10, loss: 0.0339\n",
      "0 loss : 0.0489, return: 0.6587\n",
      "15 loss : 0.0842, return: 0.5855\n",
      "30 loss : 0.2442, return: 0.2122\n",
      "45 loss : 0.5079, return: -0.4429\n",
      "60 loss : 0.7902, return: -1.1700\n",
      "75 loss : 0.9792, return: -1.5857\n"
     ]
    },
    {
     "name": "stderr",
     "output_type": "stream",
     "text": [
      "100%|██████████████████████████████████████████████████████████████████████| 468/468 [00:01<00:00, 313.65it/s]\n"
     ]
    },
    {
     "name": "stdout",
     "output_type": "stream",
     "text": [
      "train epoch: 1, loss: 0.9225\n"
     ]
    },
    {
     "name": "stderr",
     "output_type": "stream",
     "text": [
      "100%|██████████████████████████████████████████████████████████████████████| 468/468 [00:00<00:00, 490.68it/s]\n"
     ]
    },
    {
     "name": "stdout",
     "output_type": "stream",
     "text": [
      "train epoch: 2, loss: 0.6905\n"
     ]
    },
    {
     "name": "stderr",
     "output_type": "stream",
     "text": [
      "100%|██████████████████████████████████████████████████████████████████████| 468/468 [00:00<00:00, 484.65it/s]\n"
     ]
    },
    {
     "name": "stdout",
     "output_type": "stream",
     "text": [
      "train epoch: 3, loss: 0.5355\n"
     ]
    },
    {
     "name": "stderr",
     "output_type": "stream",
     "text": [
      "100%|██████████████████████████████████████████████████████████████████████| 468/468 [00:00<00:00, 486.93it/s]\n"
     ]
    },
    {
     "name": "stdout",
     "output_type": "stream",
     "text": [
      "train epoch: 4, loss: 0.4617\n"
     ]
    },
    {
     "name": "stderr",
     "output_type": "stream",
     "text": [
      "100%|██████████████████████████████████████████████████████████████████████| 468/468 [00:00<00:00, 493.94it/s]\n"
     ]
    },
    {
     "name": "stdout",
     "output_type": "stream",
     "text": [
      "train epoch: 5, loss: 0.4318\n"
     ]
    },
    {
     "name": "stderr",
     "output_type": "stream",
     "text": [
      "100%|██████████████████████████████████████████████████████████████████████| 468/468 [00:00<00:00, 484.33it/s]\n"
     ]
    },
    {
     "name": "stdout",
     "output_type": "stream",
     "text": [
      "train epoch: 6, loss: 0.4105\n"
     ]
    },
    {
     "name": "stderr",
     "output_type": "stream",
     "text": [
      "100%|██████████████████████████████████████████████████████████████████████| 468/468 [00:00<00:00, 493.69it/s]\n"
     ]
    },
    {
     "name": "stdout",
     "output_type": "stream",
     "text": [
      "train epoch: 7, loss: 0.3898\n"
     ]
    },
    {
     "name": "stderr",
     "output_type": "stream",
     "text": [
      "100%|██████████████████████████████████████████████████████████████████████| 468/468 [00:00<00:00, 486.51it/s]\n"
     ]
    },
    {
     "name": "stdout",
     "output_type": "stream",
     "text": [
      "train epoch: 8, loss: 0.3688\n"
     ]
    },
    {
     "name": "stderr",
     "output_type": "stream",
     "text": [
      "100%|██████████████████████████████████████████████████████████████████████| 468/468 [00:00<00:00, 490.94it/s]\n"
     ]
    },
    {
     "name": "stdout",
     "output_type": "stream",
     "text": [
      "train epoch: 9, loss: 0.3481\n"
     ]
    },
    {
     "name": "stderr",
     "output_type": "stream",
     "text": [
      "100%|██████████████████████████████████████████████████████████████████████| 468/468 [00:00<00:00, 486.29it/s]\n"
     ]
    },
    {
     "name": "stdout",
     "output_type": "stream",
     "text": [
      "train epoch: 10, loss: 0.3295\n",
      "0 loss : 0.3332, return: 0.0975\n",
      "15 loss : 0.3506, return: 0.0960\n",
      "30 loss : 0.4520, return: -0.0010\n",
      "45 loss : 0.6344, return: -0.2698\n",
      "60 loss : 0.8489, return: -0.5635\n",
      "75 loss : 0.9970, return: -0.7308\n"
     ]
    },
    {
     "name": "stderr",
     "output_type": "stream",
     "text": [
      "100%|██████████████████████████████████████████████████████████████████████| 468/468 [00:01<00:00, 337.01it/s]\n"
     ]
    },
    {
     "name": "stdout",
     "output_type": "stream",
     "text": [
      "train epoch: 1, loss: 0.3005\n"
     ]
    },
    {
     "name": "stderr",
     "output_type": "stream",
     "text": [
      "100%|██████████████████████████████████████████████████████████████████████| 468/468 [00:00<00:00, 495.03it/s]\n"
     ]
    },
    {
     "name": "stdout",
     "output_type": "stream",
     "text": [
      "train epoch: 2, loss: 0.0714\n"
     ]
    },
    {
     "name": "stderr",
     "output_type": "stream",
     "text": [
      "100%|██████████████████████████████████████████████████████████████████████| 468/468 [00:00<00:00, 495.21it/s]\n"
     ]
    },
    {
     "name": "stdout",
     "output_type": "stream",
     "text": [
      "train epoch: 3, loss: 0.0488\n"
     ]
    },
    {
     "name": "stderr",
     "output_type": "stream",
     "text": [
      "100%|██████████████████████████████████████████████████████████████████████| 468/468 [00:00<00:00, 477.76it/s]\n"
     ]
    },
    {
     "name": "stdout",
     "output_type": "stream",
     "text": [
      "train epoch: 4, loss: 0.0433\n"
     ]
    },
    {
     "name": "stderr",
     "output_type": "stream",
     "text": [
      "100%|██████████████████████████████████████████████████████████████████████| 468/468 [00:00<00:00, 482.02it/s]\n"
     ]
    },
    {
     "name": "stdout",
     "output_type": "stream",
     "text": [
      "train epoch: 5, loss: 0.0409\n"
     ]
    },
    {
     "name": "stderr",
     "output_type": "stream",
     "text": [
      "100%|██████████████████████████████████████████████████████████████████████| 468/468 [00:01<00:00, 466.67it/s]\n"
     ]
    },
    {
     "name": "stdout",
     "output_type": "stream",
     "text": [
      "train epoch: 6, loss: 0.0392\n"
     ]
    },
    {
     "name": "stderr",
     "output_type": "stream",
     "text": [
      "100%|██████████████████████████████████████████████████████████████████████| 468/468 [00:00<00:00, 498.44it/s]\n"
     ]
    },
    {
     "name": "stdout",
     "output_type": "stream",
     "text": [
      "train epoch: 7, loss: 0.0377\n"
     ]
    },
    {
     "name": "stderr",
     "output_type": "stream",
     "text": [
      "100%|██████████████████████████████████████████████████████████████████████| 468/468 [00:00<00:00, 478.45it/s]\n"
     ]
    },
    {
     "name": "stdout",
     "output_type": "stream",
     "text": [
      "train epoch: 8, loss: 0.0364\n"
     ]
    },
    {
     "name": "stderr",
     "output_type": "stream",
     "text": [
      "100%|██████████████████████████████████████████████████████████████████████| 468/468 [00:00<00:00, 468.52it/s]\n"
     ]
    },
    {
     "name": "stdout",
     "output_type": "stream",
     "text": [
      "train epoch: 9, loss: 0.0352\n"
     ]
    },
    {
     "name": "stderr",
     "output_type": "stream",
     "text": [
      "100%|██████████████████████████████████████████████████████████████████████| 468/468 [00:00<00:00, 476.91it/s]\n"
     ]
    },
    {
     "name": "stdout",
     "output_type": "stream",
     "text": [
      "train epoch: 10, loss: 0.0340\n",
      "0 loss : 0.0495, return: 0.6438\n",
      "15 loss : 0.0849, return: 0.5746\n",
      "30 loss : 0.2450, return: 0.2102\n",
      "45 loss : 0.5086, return: -0.4288\n",
      "60 loss : 0.7908, return: -1.1428\n",
      "75 loss : 0.9797, return: -1.5488\n"
     ]
    },
    {
     "name": "stderr",
     "output_type": "stream",
     "text": [
      "100%|██████████████████████████████████████████████████████████████████████| 468/468 [00:01<00:00, 330.22it/s]\n"
     ]
    },
    {
     "name": "stdout",
     "output_type": "stream",
     "text": [
      "train epoch: 1, loss: 0.2987\n"
     ]
    },
    {
     "name": "stderr",
     "output_type": "stream",
     "text": [
      "100%|██████████████████████████████████████████████████████████████████████| 468/468 [00:00<00:00, 470.28it/s]\n"
     ]
    },
    {
     "name": "stdout",
     "output_type": "stream",
     "text": [
      "train epoch: 2, loss: 0.0718\n"
     ]
    },
    {
     "name": "stderr",
     "output_type": "stream",
     "text": [
      "100%|██████████████████████████████████████████████████████████████████████| 468/468 [00:00<00:00, 475.17it/s]\n"
     ]
    },
    {
     "name": "stdout",
     "output_type": "stream",
     "text": [
      "train epoch: 3, loss: 0.0484\n"
     ]
    },
    {
     "name": "stderr",
     "output_type": "stream",
     "text": [
      "100%|██████████████████████████████████████████████████████████████████████| 468/468 [00:00<00:00, 479.64it/s]\n"
     ]
    },
    {
     "name": "stdout",
     "output_type": "stream",
     "text": [
      "train epoch: 4, loss: 0.0430\n"
     ]
    },
    {
     "name": "stderr",
     "output_type": "stream",
     "text": [
      "100%|██████████████████████████████████████████████████████████████████████| 468/468 [00:01<00:00, 464.42it/s]\n"
     ]
    },
    {
     "name": "stdout",
     "output_type": "stream",
     "text": [
      "train epoch: 5, loss: 0.0405\n"
     ]
    },
    {
     "name": "stderr",
     "output_type": "stream",
     "text": [
      "100%|██████████████████████████████████████████████████████████████████████| 468/468 [00:01<00:00, 467.41it/s]\n"
     ]
    },
    {
     "name": "stdout",
     "output_type": "stream",
     "text": [
      "train epoch: 6, loss: 0.0390\n"
     ]
    },
    {
     "name": "stderr",
     "output_type": "stream",
     "text": [
      "100%|██████████████████████████████████████████████████████████████████████| 468/468 [00:00<00:00, 472.33it/s]\n"
     ]
    },
    {
     "name": "stdout",
     "output_type": "stream",
     "text": [
      "train epoch: 7, loss: 0.0376\n"
     ]
    },
    {
     "name": "stderr",
     "output_type": "stream",
     "text": [
      "100%|██████████████████████████████████████████████████████████████████████| 468/468 [00:01<00:00, 446.80it/s]\n"
     ]
    },
    {
     "name": "stdout",
     "output_type": "stream",
     "text": [
      "train epoch: 8, loss: 0.0362\n"
     ]
    },
    {
     "name": "stderr",
     "output_type": "stream",
     "text": [
      "100%|██████████████████████████████████████████████████████████████████████| 468/468 [00:01<00:00, 398.94it/s]\n"
     ]
    },
    {
     "name": "stdout",
     "output_type": "stream",
     "text": [
      "train epoch: 9, loss: 0.0351\n"
     ]
    },
    {
     "name": "stderr",
     "output_type": "stream",
     "text": [
      "100%|██████████████████████████████████████████████████████████████████████| 468/468 [00:01<00:00, 362.11it/s]\n"
     ]
    },
    {
     "name": "stdout",
     "output_type": "stream",
     "text": [
      "train epoch: 10, loss: 0.0337\n",
      "0 loss : 0.0493, return: 0.6544\n",
      "15 loss : 0.0847, return: 0.5824\n",
      "30 loss : 0.2447, return: 0.2109\n",
      "45 loss : 0.5085, return: -0.4430\n",
      "60 loss : 0.7908, return: -1.1681\n",
      "75 loss : 0.9798, return: -1.5822\n"
     ]
    },
    {
     "name": "stderr",
     "output_type": "stream",
     "text": [
      "100%|██████████████████████████████████████████████████████████████████████| 468/468 [00:01<00:00, 325.41it/s]\n"
     ]
    },
    {
     "name": "stdout",
     "output_type": "stream",
     "text": [
      "train epoch: 1, loss: 0.2995\n"
     ]
    },
    {
     "name": "stderr",
     "output_type": "stream",
     "text": [
      "100%|██████████████████████████████████████████████████████████████████████| 468/468 [00:01<00:00, 453.66it/s]\n"
     ]
    },
    {
     "name": "stdout",
     "output_type": "stream",
     "text": [
      "train epoch: 2, loss: 0.0713\n"
     ]
    },
    {
     "name": "stderr",
     "output_type": "stream",
     "text": [
      "100%|██████████████████████████████████████████████████████████████████████| 468/468 [00:01<00:00, 364.72it/s]\n"
     ]
    },
    {
     "name": "stdout",
     "output_type": "stream",
     "text": [
      "train epoch: 3, loss: 0.0486\n"
     ]
    },
    {
     "name": "stderr",
     "output_type": "stream",
     "text": [
      "100%|██████████████████████████████████████████████████████████████████████| 468/468 [00:01<00:00, 406.22it/s]\n"
     ]
    },
    {
     "name": "stdout",
     "output_type": "stream",
     "text": [
      "train epoch: 4, loss: 0.0431\n"
     ]
    },
    {
     "name": "stderr",
     "output_type": "stream",
     "text": [
      "100%|██████████████████████████████████████████████████████████████████████| 468/468 [00:00<00:00, 475.92it/s]\n"
     ]
    },
    {
     "name": "stdout",
     "output_type": "stream",
     "text": [
      "train epoch: 5, loss: 0.0406\n"
     ]
    },
    {
     "name": "stderr",
     "output_type": "stream",
     "text": [
      "100%|██████████████████████████████████████████████████████████████████████| 468/468 [00:01<00:00, 447.39it/s]\n"
     ]
    },
    {
     "name": "stdout",
     "output_type": "stream",
     "text": [
      "train epoch: 6, loss: 0.0390\n"
     ]
    },
    {
     "name": "stderr",
     "output_type": "stream",
     "text": [
      "100%|██████████████████████████████████████████████████████████████████████| 468/468 [00:00<00:00, 484.39it/s]\n"
     ]
    },
    {
     "name": "stdout",
     "output_type": "stream",
     "text": [
      "train epoch: 7, loss: 0.0376\n"
     ]
    },
    {
     "name": "stderr",
     "output_type": "stream",
     "text": [
      "100%|██████████████████████████████████████████████████████████████████████| 468/468 [00:00<00:00, 480.62it/s]\n"
     ]
    },
    {
     "name": "stdout",
     "output_type": "stream",
     "text": [
      "train epoch: 8, loss: 0.0362\n"
     ]
    },
    {
     "name": "stderr",
     "output_type": "stream",
     "text": [
      "100%|██████████████████████████████████████████████████████████████████████| 468/468 [00:01<00:00, 467.68it/s]\n"
     ]
    },
    {
     "name": "stdout",
     "output_type": "stream",
     "text": [
      "train epoch: 9, loss: 0.0351\n"
     ]
    },
    {
     "name": "stderr",
     "output_type": "stream",
     "text": [
      "100%|██████████████████████████████████████████████████████████████████████| 468/468 [00:01<00:00, 456.95it/s]\n"
     ]
    },
    {
     "name": "stdout",
     "output_type": "stream",
     "text": [
      "train epoch: 10, loss: 0.0338\n",
      "0 loss : 0.0491, return: 0.6621\n",
      "15 loss : 0.0845, return: 0.5880\n",
      "30 loss : 0.2444, return: 0.2106\n",
      "45 loss : 0.5081, return: -0.4473\n",
      "60 loss : 0.7902, return: -1.1814\n",
      "75 loss : 0.9792, return: -1.5969\n"
     ]
    },
    {
     "name": "stderr",
     "output_type": "stream",
     "text": [
      "100%|██████████████████████████████████████████████████████████████████████| 468/468 [00:01<00:00, 329.73it/s]\n"
     ]
    },
    {
     "name": "stdout",
     "output_type": "stream",
     "text": [
      "train epoch: 1, loss: 0.9378\n"
     ]
    },
    {
     "name": "stderr",
     "output_type": "stream",
     "text": [
      "100%|██████████████████████████████████████████████████████████████████████| 468/468 [00:00<00:00, 476.52it/s]\n"
     ]
    },
    {
     "name": "stdout",
     "output_type": "stream",
     "text": [
      "train epoch: 2, loss: 0.7319\n"
     ]
    },
    {
     "name": "stderr",
     "output_type": "stream",
     "text": [
      "100%|██████████████████████████████████████████████████████████████████████| 468/468 [00:00<00:00, 485.85it/s]\n"
     ]
    },
    {
     "name": "stdout",
     "output_type": "stream",
     "text": [
      "train epoch: 3, loss: 0.5519\n"
     ]
    },
    {
     "name": "stderr",
     "output_type": "stream",
     "text": [
      "100%|██████████████████████████████████████████████████████████████████████| 468/468 [00:00<00:00, 479.78it/s]\n"
     ]
    },
    {
     "name": "stdout",
     "output_type": "stream",
     "text": [
      "train epoch: 4, loss: 0.5124\n"
     ]
    },
    {
     "name": "stderr",
     "output_type": "stream",
     "text": [
      "100%|██████████████████████████████████████████████████████████████████████| 468/468 [00:00<00:00, 473.10it/s]\n"
     ]
    },
    {
     "name": "stdout",
     "output_type": "stream",
     "text": [
      "train epoch: 5, loss: 0.5065\n"
     ]
    },
    {
     "name": "stderr",
     "output_type": "stream",
     "text": [
      "100%|██████████████████████████████████████████████████████████████████████| 468/468 [00:00<00:00, 499.16it/s]\n"
     ]
    },
    {
     "name": "stdout",
     "output_type": "stream",
     "text": [
      "train epoch: 6, loss: 0.5024\n"
     ]
    },
    {
     "name": "stderr",
     "output_type": "stream",
     "text": [
      "100%|██████████████████████████████████████████████████████████████████████| 468/468 [00:00<00:00, 499.79it/s]\n"
     ]
    },
    {
     "name": "stdout",
     "output_type": "stream",
     "text": [
      "train epoch: 7, loss: 0.4980\n"
     ]
    },
    {
     "name": "stderr",
     "output_type": "stream",
     "text": [
      "100%|██████████████████████████████████████████████████████████████████████| 468/468 [00:00<00:00, 481.13it/s]\n"
     ]
    },
    {
     "name": "stdout",
     "output_type": "stream",
     "text": [
      "train epoch: 8, loss: 0.4925\n"
     ]
    },
    {
     "name": "stderr",
     "output_type": "stream",
     "text": [
      "100%|██████████████████████████████████████████████████████████████████████| 468/468 [00:01<00:00, 438.82it/s]\n"
     ]
    },
    {
     "name": "stdout",
     "output_type": "stream",
     "text": [
      "train epoch: 9, loss: 0.4869\n"
     ]
    },
    {
     "name": "stderr",
     "output_type": "stream",
     "text": [
      "100%|██████████████████████████████████████████████████████████████████████| 468/468 [00:01<00:00, 461.36it/s]\n"
     ]
    },
    {
     "name": "stdout",
     "output_type": "stream",
     "text": [
      "train epoch: 10, loss: 0.4810\n",
      "0 loss : 0.4910, return: 0.0188\n",
      "15 loss : 0.5339, return: -0.0103\n",
      "30 loss : 0.6361, return: -0.1687\n",
      "45 loss : 0.7910, return: -0.4417\n",
      "60 loss : 0.9949, return: -0.8114\n",
      "75 loss : 1.1393, return: -1.0297\n"
     ]
    },
    {
     "name": "stderr",
     "output_type": "stream",
     "text": [
      "100%|██████████████████████████████████████████████████████████████████████| 468/468 [00:01<00:00, 299.20it/s]\n"
     ]
    },
    {
     "name": "stdout",
     "output_type": "stream",
     "text": [
      "train epoch: 1, loss: 0.9305\n"
     ]
    },
    {
     "name": "stderr",
     "output_type": "stream",
     "text": [
      "100%|██████████████████████████████████████████████████████████████████████| 468/468 [00:00<00:00, 477.31it/s]\n"
     ]
    },
    {
     "name": "stdout",
     "output_type": "stream",
     "text": [
      "train epoch: 2, loss: 0.7334\n"
     ]
    },
    {
     "name": "stderr",
     "output_type": "stream",
     "text": [
      "100%|██████████████████████████████████████████████████████████████████████| 468/468 [00:01<00:00, 447.36it/s]\n"
     ]
    },
    {
     "name": "stdout",
     "output_type": "stream",
     "text": [
      "train epoch: 3, loss: 0.5939\n"
     ]
    },
    {
     "name": "stderr",
     "output_type": "stream",
     "text": [
      "100%|██████████████████████████████████████████████████████████████████████| 468/468 [00:00<00:00, 473.89it/s]\n"
     ]
    },
    {
     "name": "stdout",
     "output_type": "stream",
     "text": [
      "train epoch: 4, loss: 0.4888\n"
     ]
    },
    {
     "name": "stderr",
     "output_type": "stream",
     "text": [
      "100%|██████████████████████████████████████████████████████████████████████| 468/468 [00:00<00:00, 470.38it/s]\n"
     ]
    },
    {
     "name": "stdout",
     "output_type": "stream",
     "text": [
      "train epoch: 5, loss: 0.4162\n"
     ]
    },
    {
     "name": "stderr",
     "output_type": "stream",
     "text": [
      "100%|██████████████████████████████████████████████████████████████████████| 468/468 [00:00<00:00, 472.83it/s]\n"
     ]
    },
    {
     "name": "stdout",
     "output_type": "stream",
     "text": [
      "train epoch: 6, loss: 0.3902\n"
     ]
    },
    {
     "name": "stderr",
     "output_type": "stream",
     "text": [
      "100%|██████████████████████████████████████████████████████████████████████| 468/468 [00:00<00:00, 470.00it/s]\n"
     ]
    },
    {
     "name": "stdout",
     "output_type": "stream",
     "text": [
      "train epoch: 7, loss: 0.3821\n"
     ]
    },
    {
     "name": "stderr",
     "output_type": "stream",
     "text": [
      "100%|██████████████████████████████████████████████████████████████████████| 468/468 [00:01<00:00, 459.27it/s]\n"
     ]
    },
    {
     "name": "stdout",
     "output_type": "stream",
     "text": [
      "train epoch: 8, loss: 0.3741\n"
     ]
    },
    {
     "name": "stderr",
     "output_type": "stream",
     "text": [
      "100%|██████████████████████████████████████████████████████████████████████| 468/468 [00:00<00:00, 468.12it/s]\n"
     ]
    },
    {
     "name": "stdout",
     "output_type": "stream",
     "text": [
      "train epoch: 9, loss: 0.3637\n"
     ]
    },
    {
     "name": "stderr",
     "output_type": "stream",
     "text": [
      "100%|██████████████████████████████████████████████████████████████████████| 468/468 [00:01<00:00, 462.05it/s]\n"
     ]
    },
    {
     "name": "stdout",
     "output_type": "stream",
     "text": [
      "train epoch: 10, loss: 0.3514\n",
      "0 loss : 0.3570, return: 0.0944\n",
      "15 loss : 0.3767, return: 0.0919\n",
      "30 loss : 0.4781, return: -0.0152\n",
      "45 loss : 0.6556, return: -0.2914\n",
      "60 loss : 0.8758, return: -0.6131\n",
      "75 loss : 1.0326, return: -0.8057\n"
     ]
    },
    {
     "name": "stderr",
     "output_type": "stream",
     "text": [
      "100%|██████████████████████████████████████████████████████████████████████| 468/468 [00:01<00:00, 303.88it/s]\n"
     ]
    },
    {
     "name": "stdout",
     "output_type": "stream",
     "text": [
      "train epoch: 1, loss: 0.9519\n"
     ]
    },
    {
     "name": "stderr",
     "output_type": "stream",
     "text": [
      "100%|██████████████████████████████████████████████████████████████████████| 468/468 [00:00<00:00, 480.38it/s]\n"
     ]
    },
    {
     "name": "stdout",
     "output_type": "stream",
     "text": [
      "train epoch: 2, loss: 0.8694\n"
     ]
    },
    {
     "name": "stderr",
     "output_type": "stream",
     "text": [
      "100%|██████████████████████████████████████████████████████████████████████| 468/468 [00:01<00:00, 467.75it/s]\n"
     ]
    },
    {
     "name": "stdout",
     "output_type": "stream",
     "text": [
      "train epoch: 3, loss: 0.7787\n"
     ]
    },
    {
     "name": "stderr",
     "output_type": "stream",
     "text": [
      "100%|██████████████████████████████████████████████████████████████████████| 468/468 [00:00<00:00, 484.18it/s]\n"
     ]
    },
    {
     "name": "stdout",
     "output_type": "stream",
     "text": [
      "train epoch: 4, loss: 0.7120\n"
     ]
    },
    {
     "name": "stderr",
     "output_type": "stream",
     "text": [
      "100%|██████████████████████████████████████████████████████████████████████| 468/468 [00:00<00:00, 472.14it/s]\n"
     ]
    },
    {
     "name": "stdout",
     "output_type": "stream",
     "text": [
      "train epoch: 5, loss: 0.6666\n"
     ]
    },
    {
     "name": "stderr",
     "output_type": "stream",
     "text": [
      "100%|██████████████████████████████████████████████████████████████████████| 468/468 [00:01<00:00, 450.07it/s]\n"
     ]
    },
    {
     "name": "stdout",
     "output_type": "stream",
     "text": [
      "train epoch: 6, loss: 0.6296\n"
     ]
    },
    {
     "name": "stderr",
     "output_type": "stream",
     "text": [
      "100%|██████████████████████████████████████████████████████████████████████| 468/468 [00:00<00:00, 470.16it/s]\n"
     ]
    },
    {
     "name": "stdout",
     "output_type": "stream",
     "text": [
      "train epoch: 7, loss: 0.6063\n"
     ]
    },
    {
     "name": "stderr",
     "output_type": "stream",
     "text": [
      "100%|██████████████████████████████████████████████████████████████████████| 468/468 [00:01<00:00, 465.16it/s]\n"
     ]
    },
    {
     "name": "stdout",
     "output_type": "stream",
     "text": [
      "train epoch: 8, loss: 0.5965\n"
     ]
    },
    {
     "name": "stderr",
     "output_type": "stream",
     "text": [
      "100%|██████████████████████████████████████████████████████████████████████| 468/468 [00:00<00:00, 482.52it/s]\n"
     ]
    },
    {
     "name": "stdout",
     "output_type": "stream",
     "text": [
      "train epoch: 9, loss: 0.5930\n"
     ]
    },
    {
     "name": "stderr",
     "output_type": "stream",
     "text": [
      "100%|██████████████████████████████████████████████████████████████████████| 468/468 [00:00<00:00, 486.18it/s]\n"
     ]
    },
    {
     "name": "stdout",
     "output_type": "stream",
     "text": [
      "train epoch: 10, loss: 0.5903\n",
      "0 loss : 0.6016, return: 0.0343\n",
      "15 loss : 0.6559, return: 0.0187\n",
      "30 loss : 0.7667, return: -0.1675\n",
      "45 loss : 0.9197, return: -0.4340\n",
      "60 loss : 1.0869, return: -0.8109\n",
      "75 loss : 1.2110, return: -1.0521\n"
     ]
    },
    {
     "name": "stderr",
     "output_type": "stream",
     "text": [
      "100%|██████████████████████████████████████████████████████████████████████| 468/468 [00:01<00:00, 351.56it/s]\n"
     ]
    },
    {
     "name": "stdout",
     "output_type": "stream",
     "text": [
      "train epoch: 1, loss: 0.3008\n"
     ]
    },
    {
     "name": "stderr",
     "output_type": "stream",
     "text": [
      "100%|██████████████████████████████████████████████████████████████████████| 468/468 [00:01<00:00, 466.37it/s]\n"
     ]
    },
    {
     "name": "stdout",
     "output_type": "stream",
     "text": [
      "train epoch: 2, loss: 0.0716\n"
     ]
    },
    {
     "name": "stderr",
     "output_type": "stream",
     "text": [
      "100%|██████████████████████████████████████████████████████████████████████| 468/468 [00:01<00:00, 465.47it/s]\n"
     ]
    },
    {
     "name": "stdout",
     "output_type": "stream",
     "text": [
      "train epoch: 3, loss: 0.0489\n"
     ]
    },
    {
     "name": "stderr",
     "output_type": "stream",
     "text": [
      "100%|██████████████████████████████████████████████████████████████████████| 468/468 [00:01<00:00, 450.70it/s]\n"
     ]
    },
    {
     "name": "stdout",
     "output_type": "stream",
     "text": [
      "train epoch: 4, loss: 0.0433\n"
     ]
    },
    {
     "name": "stderr",
     "output_type": "stream",
     "text": [
      "100%|██████████████████████████████████████████████████████████████████████| 468/468 [00:01<00:00, 453.72it/s]\n"
     ]
    },
    {
     "name": "stdout",
     "output_type": "stream",
     "text": [
      "train epoch: 5, loss: 0.0410\n"
     ]
    },
    {
     "name": "stderr",
     "output_type": "stream",
     "text": [
      "100%|██████████████████████████████████████████████████████████████████████| 468/468 [00:00<00:00, 487.15it/s]\n"
     ]
    },
    {
     "name": "stdout",
     "output_type": "stream",
     "text": [
      "train epoch: 6, loss: 0.0393\n"
     ]
    },
    {
     "name": "stderr",
     "output_type": "stream",
     "text": [
      "100%|██████████████████████████████████████████████████████████████████████| 468/468 [00:00<00:00, 498.29it/s]\n"
     ]
    },
    {
     "name": "stdout",
     "output_type": "stream",
     "text": [
      "train epoch: 7, loss: 0.0378\n"
     ]
    },
    {
     "name": "stderr",
     "output_type": "stream",
     "text": [
      "100%|██████████████████████████████████████████████████████████████████████| 468/468 [00:01<00:00, 443.69it/s]\n"
     ]
    },
    {
     "name": "stdout",
     "output_type": "stream",
     "text": [
      "train epoch: 8, loss: 0.0365\n"
     ]
    },
    {
     "name": "stderr",
     "output_type": "stream",
     "text": [
      "100%|██████████████████████████████████████████████████████████████████████| 468/468 [00:01<00:00, 446.21it/s]\n"
     ]
    },
    {
     "name": "stdout",
     "output_type": "stream",
     "text": [
      "train epoch: 9, loss: 0.0354\n"
     ]
    },
    {
     "name": "stderr",
     "output_type": "stream",
     "text": [
      "100%|██████████████████████████████████████████████████████████████████████| 468/468 [00:01<00:00, 440.54it/s]\n"
     ]
    },
    {
     "name": "stdout",
     "output_type": "stream",
     "text": [
      "train epoch: 10, loss: 0.0341\n",
      "0 loss : 0.0493, return: 0.6448\n",
      "15 loss : 0.0848, return: 0.5759\n",
      "30 loss : 0.2448, return: 0.2172\n",
      "45 loss : 0.5084, return: -0.4067\n",
      "60 loss : 0.7905, return: -1.1050\n",
      "75 loss : 0.9794, return: -1.5059\n"
     ]
    },
    {
     "name": "stderr",
     "output_type": "stream",
     "text": [
      "100%|██████████████████████████████████████████████████████████████████████| 468/468 [00:01<00:00, 312.67it/s]\n"
     ]
    },
    {
     "name": "stdout",
     "output_type": "stream",
     "text": [
      "train epoch: 1, loss: 0.3020\n"
     ]
    },
    {
     "name": "stderr",
     "output_type": "stream",
     "text": [
      "100%|██████████████████████████████████████████████████████████████████████| 468/468 [00:01<00:00, 464.65it/s]\n"
     ]
    },
    {
     "name": "stdout",
     "output_type": "stream",
     "text": [
      "train epoch: 2, loss: 0.0708\n"
     ]
    },
    {
     "name": "stderr",
     "output_type": "stream",
     "text": [
      "100%|██████████████████████████████████████████████████████████████████████| 468/468 [00:00<00:00, 475.17it/s]\n"
     ]
    },
    {
     "name": "stdout",
     "output_type": "stream",
     "text": [
      "train epoch: 3, loss: 0.0488\n"
     ]
    },
    {
     "name": "stderr",
     "output_type": "stream",
     "text": [
      "100%|██████████████████████████████████████████████████████████████████████| 468/468 [00:01<00:00, 457.04it/s]\n"
     ]
    },
    {
     "name": "stdout",
     "output_type": "stream",
     "text": [
      "train epoch: 4, loss: 0.0434\n"
     ]
    },
    {
     "name": "stderr",
     "output_type": "stream",
     "text": [
      "100%|██████████████████████████████████████████████████████████████████████| 468/468 [00:01<00:00, 466.39it/s]\n"
     ]
    },
    {
     "name": "stdout",
     "output_type": "stream",
     "text": [
      "train epoch: 5, loss: 0.0410\n"
     ]
    },
    {
     "name": "stderr",
     "output_type": "stream",
     "text": [
      "100%|██████████████████████████████████████████████████████████████████████| 468/468 [00:00<00:00, 482.10it/s]\n"
     ]
    },
    {
     "name": "stdout",
     "output_type": "stream",
     "text": [
      "train epoch: 6, loss: 0.0392\n"
     ]
    },
    {
     "name": "stderr",
     "output_type": "stream",
     "text": [
      "100%|██████████████████████████████████████████████████████████████████████| 468/468 [00:00<00:00, 483.74it/s]\n"
     ]
    },
    {
     "name": "stdout",
     "output_type": "stream",
     "text": [
      "train epoch: 7, loss: 0.0379\n"
     ]
    },
    {
     "name": "stderr",
     "output_type": "stream",
     "text": [
      "100%|██████████████████████████████████████████████████████████████████████| 468/468 [00:00<00:00, 479.49it/s]\n"
     ]
    },
    {
     "name": "stdout",
     "output_type": "stream",
     "text": [
      "train epoch: 8, loss: 0.0365\n"
     ]
    },
    {
     "name": "stderr",
     "output_type": "stream",
     "text": [
      "100%|██████████████████████████████████████████████████████████████████████| 468/468 [00:00<00:00, 471.28it/s]\n"
     ]
    },
    {
     "name": "stdout",
     "output_type": "stream",
     "text": [
      "train epoch: 9, loss: 0.0354\n"
     ]
    },
    {
     "name": "stderr",
     "output_type": "stream",
     "text": [
      "100%|██████████████████████████████████████████████████████████████████████| 468/468 [00:00<00:00, 475.19it/s]\n"
     ]
    },
    {
     "name": "stdout",
     "output_type": "stream",
     "text": [
      "train epoch: 10, loss: 0.0341\n",
      "0 loss : 0.0493, return: 0.6448\n",
      "15 loss : 0.0848, return: 0.5763\n",
      "30 loss : 0.2449, return: 0.2161\n",
      "45 loss : 0.5085, return: -0.4110\n",
      "60 loss : 0.7908, return: -1.1325\n",
      "75 loss : 0.9797, return: -1.5535\n"
     ]
    },
    {
     "name": "stderr",
     "output_type": "stream",
     "text": [
      "100%|██████████████████████████████████████████████████████████████████████| 468/468 [00:01<00:00, 321.40it/s]\n"
     ]
    },
    {
     "name": "stdout",
     "output_type": "stream",
     "text": [
      "train epoch: 1, loss: 0.2995\n"
     ]
    },
    {
     "name": "stderr",
     "output_type": "stream",
     "text": [
      "100%|██████████████████████████████████████████████████████████████████████| 468/468 [00:01<00:00, 467.82it/s]\n"
     ]
    },
    {
     "name": "stdout",
     "output_type": "stream",
     "text": [
      "train epoch: 2, loss: 0.0712\n"
     ]
    },
    {
     "name": "stderr",
     "output_type": "stream",
     "text": [
      "100%|██████████████████████████████████████████████████████████████████████| 468/468 [00:00<00:00, 472.15it/s]\n"
     ]
    },
    {
     "name": "stdout",
     "output_type": "stream",
     "text": [
      "train epoch: 3, loss: 0.0486\n"
     ]
    },
    {
     "name": "stderr",
     "output_type": "stream",
     "text": [
      "100%|██████████████████████████████████████████████████████████████████████| 468/468 [00:00<00:00, 472.89it/s]\n"
     ]
    },
    {
     "name": "stdout",
     "output_type": "stream",
     "text": [
      "train epoch: 4, loss: 0.0431\n"
     ]
    },
    {
     "name": "stderr",
     "output_type": "stream",
     "text": [
      "100%|██████████████████████████████████████████████████████████████████████| 468/468 [00:00<00:00, 480.82it/s]\n"
     ]
    },
    {
     "name": "stdout",
     "output_type": "stream",
     "text": [
      "train epoch: 5, loss: 0.0406\n"
     ]
    },
    {
     "name": "stderr",
     "output_type": "stream",
     "text": [
      "100%|██████████████████████████████████████████████████████████████████████| 468/468 [00:00<00:00, 482.60it/s]\n"
     ]
    },
    {
     "name": "stdout",
     "output_type": "stream",
     "text": [
      "train epoch: 6, loss: 0.0391\n"
     ]
    },
    {
     "name": "stderr",
     "output_type": "stream",
     "text": [
      "100%|██████████████████████████████████████████████████████████████████████| 468/468 [00:01<00:00, 467.06it/s]\n"
     ]
    },
    {
     "name": "stdout",
     "output_type": "stream",
     "text": [
      "train epoch: 7, loss: 0.0376\n"
     ]
    },
    {
     "name": "stderr",
     "output_type": "stream",
     "text": [
      "100%|██████████████████████████████████████████████████████████████████████| 468/468 [00:01<00:00, 464.48it/s]\n"
     ]
    },
    {
     "name": "stdout",
     "output_type": "stream",
     "text": [
      "train epoch: 8, loss: 0.0363\n"
     ]
    },
    {
     "name": "stderr",
     "output_type": "stream",
     "text": [
      "100%|██████████████████████████████████████████████████████████████████████| 468/468 [00:01<00:00, 464.62it/s]\n"
     ]
    },
    {
     "name": "stdout",
     "output_type": "stream",
     "text": [
      "train epoch: 9, loss: 0.0351\n"
     ]
    },
    {
     "name": "stderr",
     "output_type": "stream",
     "text": [
      "100%|██████████████████████████████████████████████████████████████████████| 468/468 [00:00<00:00, 476.14it/s]\n"
     ]
    },
    {
     "name": "stdout",
     "output_type": "stream",
     "text": [
      "train epoch: 10, loss: 0.0339\n",
      "0 loss : 0.0496, return: 0.6524\n",
      "15 loss : 0.0850, return: 0.5799\n",
      "30 loss : 0.2449, return: 0.2085\n",
      "45 loss : 0.5086, return: -0.4381\n",
      "60 loss : 0.7908, return: -1.1641\n",
      "75 loss : 0.9798, return: -1.5732\n"
     ]
    },
    {
     "name": "stderr",
     "output_type": "stream",
     "text": [
      "100%|██████████████████████████████████████████████████████████████████████| 468/468 [00:01<00:00, 313.42it/s]\n"
     ]
    },
    {
     "name": "stdout",
     "output_type": "stream",
     "text": [
      "train epoch: 1, loss: 0.9420\n"
     ]
    },
    {
     "name": "stderr",
     "output_type": "stream",
     "text": [
      "100%|██████████████████████████████████████████████████████████████████████| 468/468 [00:00<00:00, 477.61it/s]\n"
     ]
    },
    {
     "name": "stdout",
     "output_type": "stream",
     "text": [
      "train epoch: 2, loss: 0.7694\n"
     ]
    },
    {
     "name": "stderr",
     "output_type": "stream",
     "text": [
      "100%|██████████████████████████████████████████████████████████████████████| 468/468 [00:00<00:00, 485.99it/s]\n"
     ]
    },
    {
     "name": "stdout",
     "output_type": "stream",
     "text": [
      "train epoch: 3, loss: 0.5997\n"
     ]
    },
    {
     "name": "stderr",
     "output_type": "stream",
     "text": [
      "100%|██████████████████████████████████████████████████████████████████████| 468/468 [00:01<00:00, 430.67it/s]\n"
     ]
    },
    {
     "name": "stdout",
     "output_type": "stream",
     "text": [
      "train epoch: 4, loss: 0.5507\n"
     ]
    },
    {
     "name": "stderr",
     "output_type": "stream",
     "text": [
      "100%|██████████████████████████████████████████████████████████████████████| 468/468 [00:01<00:00, 450.28it/s]\n"
     ]
    },
    {
     "name": "stdout",
     "output_type": "stream",
     "text": [
      "train epoch: 5, loss: 0.5449\n"
     ]
    },
    {
     "name": "stderr",
     "output_type": "stream",
     "text": [
      "100%|██████████████████████████████████████████████████████████████████████| 468/468 [00:00<00:00, 479.14it/s]\n"
     ]
    },
    {
     "name": "stdout",
     "output_type": "stream",
     "text": [
      "train epoch: 6, loss: 0.5419\n"
     ]
    },
    {
     "name": "stderr",
     "output_type": "stream",
     "text": [
      "100%|██████████████████████████████████████████████████████████████████████| 468/468 [00:00<00:00, 473.17it/s]\n"
     ]
    },
    {
     "name": "stdout",
     "output_type": "stream",
     "text": [
      "train epoch: 7, loss: 0.5387\n"
     ]
    },
    {
     "name": "stderr",
     "output_type": "stream",
     "text": [
      "100%|██████████████████████████████████████████████████████████████████████| 468/468 [00:01<00:00, 439.85it/s]\n"
     ]
    },
    {
     "name": "stdout",
     "output_type": "stream",
     "text": [
      "train epoch: 8, loss: 0.5342\n"
     ]
    },
    {
     "name": "stderr",
     "output_type": "stream",
     "text": [
      "100%|██████████████████████████████████████████████████████████████████████| 468/468 [00:00<00:00, 470.95it/s]\n"
     ]
    },
    {
     "name": "stdout",
     "output_type": "stream",
     "text": [
      "train epoch: 9, loss: 0.5302\n"
     ]
    },
    {
     "name": "stderr",
     "output_type": "stream",
     "text": [
      "100%|██████████████████████████████████████████████████████████████████████| 468/468 [00:01<00:00, 447.66it/s]\n"
     ]
    },
    {
     "name": "stdout",
     "output_type": "stream",
     "text": [
      "train epoch: 10, loss: 0.5251\n",
      "0 loss : 0.5332, return: 0.0007\n",
      "15 loss : 0.5770, return: -0.0157\n",
      "30 loss : 0.6775, return: -0.2332\n",
      "45 loss : 0.8211, return: -0.5227\n",
      "60 loss : 0.9954, return: -0.8396\n",
      "75 loss : 1.1103, return: -1.0069\n"
     ]
    },
    {
     "name": "stderr",
     "output_type": "stream",
     "text": [
      "100%|██████████████████████████████████████████████████████████████████████| 468/468 [00:01<00:00, 327.60it/s]\n"
     ]
    },
    {
     "name": "stdout",
     "output_type": "stream",
     "text": [
      "train epoch: 1, loss: 0.9578\n"
     ]
    },
    {
     "name": "stderr",
     "output_type": "stream",
     "text": [
      "100%|██████████████████████████████████████████████████████████████████████| 468/468 [00:01<00:00, 466.17it/s]\n"
     ]
    },
    {
     "name": "stdout",
     "output_type": "stream",
     "text": [
      "train epoch: 2, loss: 0.9122\n"
     ]
    },
    {
     "name": "stderr",
     "output_type": "stream",
     "text": [
      "100%|██████████████████████████████████████████████████████████████████████| 468/468 [00:01<00:00, 465.55it/s]\n"
     ]
    },
    {
     "name": "stdout",
     "output_type": "stream",
     "text": [
      "train epoch: 3, loss: 0.8977\n"
     ]
    },
    {
     "name": "stderr",
     "output_type": "stream",
     "text": [
      "100%|██████████████████████████████████████████████████████████████████████| 468/468 [00:00<00:00, 488.03it/s]\n"
     ]
    },
    {
     "name": "stdout",
     "output_type": "stream",
     "text": [
      "train epoch: 4, loss: 0.8597\n"
     ]
    },
    {
     "name": "stderr",
     "output_type": "stream",
     "text": [
      "100%|██████████████████████████████████████████████████████████████████████| 468/468 [00:00<00:00, 487.79it/s]\n"
     ]
    },
    {
     "name": "stdout",
     "output_type": "stream",
     "text": [
      "train epoch: 5, loss: 0.7999\n"
     ]
    },
    {
     "name": "stderr",
     "output_type": "stream",
     "text": [
      "100%|██████████████████████████████████████████████████████████████████████| 468/468 [00:00<00:00, 486.88it/s]\n"
     ]
    },
    {
     "name": "stdout",
     "output_type": "stream",
     "text": [
      "train epoch: 6, loss: 0.7354\n"
     ]
    },
    {
     "name": "stderr",
     "output_type": "stream",
     "text": [
      "100%|██████████████████████████████████████████████████████████████████████| 468/468 [00:00<00:00, 488.72it/s]\n"
     ]
    },
    {
     "name": "stdout",
     "output_type": "stream",
     "text": [
      "train epoch: 7, loss: 0.6859\n"
     ]
    },
    {
     "name": "stderr",
     "output_type": "stream",
     "text": [
      "100%|██████████████████████████████████████████████████████████████████████| 468/468 [00:00<00:00, 483.74it/s]\n"
     ]
    },
    {
     "name": "stdout",
     "output_type": "stream",
     "text": [
      "train epoch: 8, loss: 0.6589\n"
     ]
    },
    {
     "name": "stderr",
     "output_type": "stream",
     "text": [
      "100%|██████████████████████████████████████████████████████████████████████| 468/468 [00:00<00:00, 490.72it/s]\n"
     ]
    },
    {
     "name": "stdout",
     "output_type": "stream",
     "text": [
      "train epoch: 9, loss: 0.6475\n"
     ]
    },
    {
     "name": "stderr",
     "output_type": "stream",
     "text": [
      "100%|██████████████████████████████████████████████████████████████████████| 468/468 [00:00<00:00, 479.39it/s]\n"
     ]
    },
    {
     "name": "stdout",
     "output_type": "stream",
     "text": [
      "train epoch: 10, loss: 0.6433\n",
      "0 loss : 0.6501, return: 0.0107\n",
      "15 loss : 0.7135, return: -0.0313\n",
      "30 loss : 0.8272, return: -0.2114\n",
      "45 loss : 0.9558, return: -0.4347\n",
      "60 loss : 1.0925, return: -0.7153\n",
      "75 loss : 1.2129, return: -0.9075\n"
     ]
    },
    {
     "name": "stderr",
     "output_type": "stream",
     "text": [
      "100%|██████████████████████████████████████████████████████████████████████| 468/468 [00:01<00:00, 327.78it/s]\n"
     ]
    },
    {
     "name": "stdout",
     "output_type": "stream",
     "text": [
      "train epoch: 1, loss: 0.9537\n"
     ]
    },
    {
     "name": "stderr",
     "output_type": "stream",
     "text": [
      "100%|██████████████████████████████████████████████████████████████████████| 468/468 [00:00<00:00, 478.99it/s]\n"
     ]
    },
    {
     "name": "stdout",
     "output_type": "stream",
     "text": [
      "train epoch: 2, loss: 0.8933\n"
     ]
    },
    {
     "name": "stderr",
     "output_type": "stream",
     "text": [
      "100%|██████████████████████████████████████████████████████████████████████| 468/468 [00:00<00:00, 489.28it/s]\n"
     ]
    },
    {
     "name": "stdout",
     "output_type": "stream",
     "text": [
      "train epoch: 3, loss: 0.8507\n"
     ]
    },
    {
     "name": "stderr",
     "output_type": "stream",
     "text": [
      "100%|██████████████████████████████████████████████████████████████████████| 468/468 [00:00<00:00, 486.67it/s]\n"
     ]
    },
    {
     "name": "stdout",
     "output_type": "stream",
     "text": [
      "train epoch: 4, loss: 0.8177\n"
     ]
    },
    {
     "name": "stderr",
     "output_type": "stream",
     "text": [
      "100%|██████████████████████████████████████████████████████████████████████| 468/468 [00:00<00:00, 482.01it/s]\n"
     ]
    },
    {
     "name": "stdout",
     "output_type": "stream",
     "text": [
      "train epoch: 5, loss: 0.8059\n"
     ]
    },
    {
     "name": "stderr",
     "output_type": "stream",
     "text": [
      "100%|██████████████████████████████████████████████████████████████████████| 468/468 [00:00<00:00, 484.16it/s]\n"
     ]
    },
    {
     "name": "stdout",
     "output_type": "stream",
     "text": [
      "train epoch: 6, loss: 0.8020\n"
     ]
    },
    {
     "name": "stderr",
     "output_type": "stream",
     "text": [
      "100%|██████████████████████████████████████████████████████████████████████| 468/468 [00:00<00:00, 480.42it/s]\n"
     ]
    },
    {
     "name": "stdout",
     "output_type": "stream",
     "text": [
      "train epoch: 7, loss: 0.7991\n"
     ]
    },
    {
     "name": "stderr",
     "output_type": "stream",
     "text": [
      "100%|██████████████████████████████████████████████████████████████████████| 468/468 [00:00<00:00, 488.09it/s]\n"
     ]
    },
    {
     "name": "stdout",
     "output_type": "stream",
     "text": [
      "train epoch: 8, loss: 0.7971\n"
     ]
    },
    {
     "name": "stderr",
     "output_type": "stream",
     "text": [
      "100%|██████████████████████████████████████████████████████████████████████| 468/468 [00:00<00:00, 495.80it/s]\n"
     ]
    },
    {
     "name": "stdout",
     "output_type": "stream",
     "text": [
      "train epoch: 9, loss: 0.7959\n"
     ]
    },
    {
     "name": "stderr",
     "output_type": "stream",
     "text": [
      "100%|██████████████████████████████████████████████████████████████████████| 468/468 [00:00<00:00, 487.56it/s]\n"
     ]
    },
    {
     "name": "stdout",
     "output_type": "stream",
     "text": [
      "train epoch: 10, loss: 0.7938\n",
      "0 loss : 0.8007, return: -0.2366\n",
      "15 loss : 0.8196, return: -0.3830\n",
      "30 loss : 0.8816, return: -0.5342\n",
      "45 loss : 0.9779, return: -0.7595\n",
      "60 loss : 1.0456, return: -0.8152\n",
      "75 loss : 1.0636, return: -0.8011\n"
     ]
    },
    {
     "name": "stderr",
     "output_type": "stream",
     "text": [
      "100%|██████████████████████████████████████████████████████████████████████| 468/468 [00:01<00:00, 331.25it/s]\n"
     ]
    },
    {
     "name": "stdout",
     "output_type": "stream",
     "text": [
      "train epoch: 1, loss: 0.3020\n"
     ]
    },
    {
     "name": "stderr",
     "output_type": "stream",
     "text": [
      "100%|██████████████████████████████████████████████████████████████████████| 468/468 [00:00<00:00, 490.33it/s]\n"
     ]
    },
    {
     "name": "stdout",
     "output_type": "stream",
     "text": [
      "train epoch: 2, loss: 0.0707\n"
     ]
    },
    {
     "name": "stderr",
     "output_type": "stream",
     "text": [
      "100%|██████████████████████████████████████████████████████████████████████| 468/468 [00:00<00:00, 475.88it/s]\n"
     ]
    },
    {
     "name": "stdout",
     "output_type": "stream",
     "text": [
      "train epoch: 3, loss: 0.0489\n"
     ]
    },
    {
     "name": "stderr",
     "output_type": "stream",
     "text": [
      "100%|██████████████████████████████████████████████████████████████████████| 468/468 [00:00<00:00, 492.79it/s]\n"
     ]
    },
    {
     "name": "stdout",
     "output_type": "stream",
     "text": [
      "train epoch: 4, loss: 0.0436\n"
     ]
    },
    {
     "name": "stderr",
     "output_type": "stream",
     "text": [
      "100%|██████████████████████████████████████████████████████████████████████| 468/468 [00:00<00:00, 488.81it/s]\n"
     ]
    },
    {
     "name": "stdout",
     "output_type": "stream",
     "text": [
      "train epoch: 5, loss: 0.0411\n"
     ]
    },
    {
     "name": "stderr",
     "output_type": "stream",
     "text": [
      "100%|██████████████████████████████████████████████████████████████████████| 468/468 [00:00<00:00, 492.93it/s]\n"
     ]
    },
    {
     "name": "stdout",
     "output_type": "stream",
     "text": [
      "train epoch: 6, loss: 0.0393\n"
     ]
    },
    {
     "name": "stderr",
     "output_type": "stream",
     "text": [
      "100%|██████████████████████████████████████████████████████████████████████| 468/468 [00:00<00:00, 493.47it/s]\n"
     ]
    },
    {
     "name": "stdout",
     "output_type": "stream",
     "text": [
      "train epoch: 7, loss: 0.0381\n"
     ]
    },
    {
     "name": "stderr",
     "output_type": "stream",
     "text": [
      "100%|██████████████████████████████████████████████████████████████████████| 468/468 [00:00<00:00, 486.40it/s]\n"
     ]
    },
    {
     "name": "stdout",
     "output_type": "stream",
     "text": [
      "train epoch: 8, loss: 0.0366\n"
     ]
    },
    {
     "name": "stderr",
     "output_type": "stream",
     "text": [
      "100%|██████████████████████████████████████████████████████████████████████| 468/468 [00:00<00:00, 471.29it/s]\n"
     ]
    },
    {
     "name": "stdout",
     "output_type": "stream",
     "text": [
      "train epoch: 9, loss: 0.0355\n"
     ]
    },
    {
     "name": "stderr",
     "output_type": "stream",
     "text": [
      "100%|██████████████████████████████████████████████████████████████████████| 468/468 [00:00<00:00, 473.78it/s]\n"
     ]
    },
    {
     "name": "stdout",
     "output_type": "stream",
     "text": [
      "train epoch: 10, loss: 0.0343\n",
      "0 loss : 0.0500, return: 0.6446\n",
      "15 loss : 0.0855, return: 0.5752\n",
      "30 loss : 0.2454, return: 0.2200\n",
      "45 loss : 0.5088, return: -0.4011\n",
      "60 loss : 0.7909, return: -1.1110\n",
      "75 loss : 0.9798, return: -1.5256\n"
     ]
    },
    {
     "name": "stderr",
     "output_type": "stream",
     "text": [
      "100%|██████████████████████████████████████████████████████████████████████| 468/468 [00:01<00:00, 319.27it/s]\n"
     ]
    },
    {
     "name": "stdout",
     "output_type": "stream",
     "text": [
      "train epoch: 1, loss: 1.2059\n"
     ]
    },
    {
     "name": "stderr",
     "output_type": "stream",
     "text": [
      "100%|██████████████████████████████████████████████████████████████████████| 468/468 [00:00<00:00, 485.66it/s]\n"
     ]
    },
    {
     "name": "stdout",
     "output_type": "stream",
     "text": [
      "train epoch: 2, loss: 1.1080\n"
     ]
    },
    {
     "name": "stderr",
     "output_type": "stream",
     "text": [
      "100%|██████████████████████████████████████████████████████████████████████| 468/468 [00:00<00:00, 486.85it/s]\n"
     ]
    },
    {
     "name": "stdout",
     "output_type": "stream",
     "text": [
      "train epoch: 3, loss: 1.0497\n"
     ]
    },
    {
     "name": "stderr",
     "output_type": "stream",
     "text": [
      "100%|██████████████████████████████████████████████████████████████████████| 468/468 [00:00<00:00, 474.44it/s]\n"
     ]
    },
    {
     "name": "stdout",
     "output_type": "stream",
     "text": [
      "train epoch: 4, loss: 1.0076\n"
     ]
    },
    {
     "name": "stderr",
     "output_type": "stream",
     "text": [
      "100%|██████████████████████████████████████████████████████████████████████| 468/468 [00:00<00:00, 478.18it/s]\n"
     ]
    },
    {
     "name": "stdout",
     "output_type": "stream",
     "text": [
      "train epoch: 5, loss: 0.9687\n"
     ]
    },
    {
     "name": "stderr",
     "output_type": "stream",
     "text": [
      "100%|██████████████████████████████████████████████████████████████████████| 468/468 [00:00<00:00, 486.32it/s]\n"
     ]
    },
    {
     "name": "stdout",
     "output_type": "stream",
     "text": [
      "train epoch: 6, loss: 0.9530\n"
     ]
    },
    {
     "name": "stderr",
     "output_type": "stream",
     "text": [
      "100%|██████████████████████████████████████████████████████████████████████| 468/468 [00:00<00:00, 482.88it/s]\n"
     ]
    },
    {
     "name": "stdout",
     "output_type": "stream",
     "text": [
      "train epoch: 7, loss: 0.9432\n"
     ]
    },
    {
     "name": "stderr",
     "output_type": "stream",
     "text": [
      "100%|██████████████████████████████████████████████████████████████████████| 468/468 [00:00<00:00, 486.68it/s]\n"
     ]
    },
    {
     "name": "stdout",
     "output_type": "stream",
     "text": [
      "train epoch: 8, loss: 0.9340\n"
     ]
    },
    {
     "name": "stderr",
     "output_type": "stream",
     "text": [
      "100%|██████████████████████████████████████████████████████████████████████| 468/468 [00:00<00:00, 483.72it/s]\n"
     ]
    },
    {
     "name": "stdout",
     "output_type": "stream",
     "text": [
      "train epoch: 9, loss: 0.9287\n"
     ]
    },
    {
     "name": "stderr",
     "output_type": "stream",
     "text": [
      "100%|██████████████████████████████████████████████████████████████████████| 468/468 [00:00<00:00, 483.02it/s]\n"
     ]
    },
    {
     "name": "stdout",
     "output_type": "stream",
     "text": [
      "train epoch: 10, loss: 0.9249\n",
      "0 loss : 0.9181, return: -0.0480\n",
      "15 loss : 0.9181, return: -0.0480\n",
      "30 loss : 0.9181, return: -0.0480\n",
      "45 loss : 0.9181, return: -0.0480\n",
      "60 loss : 0.9181, return: -0.0480\n",
      "75 loss : 0.9181, return: -0.0480\n"
     ]
    }
   ],
   "source": [
    "from train_final_layer_stochastic_encoder import *\n",
    "rng = jax.random.PRNGKey(0)\n",
    "# noise_probs = [0.1*_ for _ in range(11)]\n",
    "# noise_probs = [0.25*_ for _ in range(11)]\n",
    "noise_probs = np.array([[0, 0, 0, 0], \n",
    "              [1, 0, 0, 0], \n",
    "              [0, 1, 0, 0], \n",
    "              [0, 0, 1, 0], \n",
    "              [0, 0, 0, 1], \n",
    "              [1, 1, 0, 0], \n",
    "              [1, 0, 1, 0], \n",
    "              [1, 0, 0, 1], \n",
    "              [0, 1, 1, 0], \n",
    "              [0, 1, 0, 1], \n",
    "              [0, 0, 1, 1], \n",
    "              [1, 1, 1, 0], \n",
    "              [1, 1, 0, 1], \n",
    "              [1, 0, 1, 1],\n",
    "              [0, 1, 1, 1], \n",
    "              [1, 1, 1, 1]])\n",
    "policy_avg_return_all = []\n",
    "for noise_prob in noise_probs:\n",
    "    state2 = train(train_ds, test_ds, rotations, state[0].params, noise_prob)\n",
    "    policy_avg_return_per_noise_prob = []\n",
    "    for rotation in rotations:\n",
    "        rng, input_rng = jax.random.split(rng)\n",
    "        test_loss, policy_avg_return = evaluate_model(input_rng, state2, test_ds['image'+str(rotation)], test_ds['label'], noise_prob[0], noise_prob[1], noise_prob[2], noise_prob[3])\n",
    "        print('%d loss : %.4f, return: %.4f' % (rotation, test_loss, policy_avg_return))\n",
    "        policy_avg_return_per_noise_prob.append(float(policy_avg_return))\n",
    "    policy_avg_return_all.append(policy_avg_return_per_noise_prob)"
   ]
  },
  {
   "cell_type": "code",
   "execution_count": 5,
   "id": "e902d205",
   "metadata": {},
   "outputs": [],
   "source": [
    "from train2 import *\n",
    "baseline_policy_avg_return_per_noise_prob = []\n",
    "for rotation in rotations:\n",
    "    rng, input_rng = jax.random.split(rng)\n",
    "    test_loss, policy_avg_return, _ = evaluate_model(state, test_ds['image'+str(rotation)], test_ds['label'])\n",
    "    baseline_policy_avg_return_per_noise_prob.append(float(policy_avg_return))"
   ]
  },
  {
   "cell_type": "code",
   "execution_count": 11,
   "id": "8b3eb68d",
   "metadata": {},
   "outputs": [
    {
     "data": {
      "text/plain": [
       "Text(0.5, 0, 'Latent mask')"
      ]
     },
     "execution_count": 11,
     "metadata": {},
     "output_type": "execute_result"
    },
    {
     "data": {
      "image/png": "[encoded data removed]",
      "text/plain": [
       "<Figure size 1500x2400 with 6 Axes>"
      ]
     },
     "metadata": {},
     "output_type": "display_data"
    }
   ],
   "source": [
    "f, axs = plt.subplots(len(rotations), 1, sharey=True, sharex=False, figsize=(15,4*len(rotations)))\n",
    "\n",
    "policy_avg_return_all = np.array(policy_avg_return_all)\n",
    "noise_probs = np.array(noise_probs)\n",
    "label_str = [str(_) for _ in noise_probs]\n",
    "for i in range(len(rotations)):\n",
    "    rotation = rotations[i]\n",
    "#     axs[i].plot(noise_probs, 0.8 - policy_avg_return_all[:, i], label = \"Noisy\")\n",
    "    \n",
    "    axs[i].bar([_ for _ in range(16)], 0.8 - policy_avg_return_all[:, i], tick_label = label_str)\n",
    "    \n",
    "#     axs[i].plot(noise_probs, (0.8-baseline_policy_avg_return_per_noise_prob[i])*np.ones(noise_probs.shape), label = \"Normal\")\n",
    "#     axs[i].set_xlabel(\"Noise Width\")\n",
    "    \n",
    "    axs[i].set_ylabel(\"Regret\")\n",
    "    axs[i].set_title(\"Rotation: \"+str(rotation))\n",
    "axs[i].set_xlabel(\"Latent mask\")\n",
    "# axs[i].legend()"
   ]
  },
  {
   "cell_type": "code",
   "execution_count": 8,
   "id": "447b67a9",
   "metadata": {},
   "outputs": [
    {
     "data": {
      "text/plain": [
       "<matplotlib.legend.Legend at 0x7f86621bbc70>"
      ]
     },
     "execution_count": 8,
     "metadata": {},
     "output_type": "execute_result"
    },
    {
     "data": {
      "image/png": "[encoded data removed]",
      "text/plain": [
       "<Figure size 640x480 with 1 Axes>"
      ]
     },
     "metadata": {},
     "output_type": "display_data"
    }
   ],
   "source": [
    "baseline_policy_avg_return_per_noise_prob=np.array(baseline_policy_avg_return_per_noise_prob)\n",
    "plt.plot(rotations, 0.8-baseline_policy_avg_return_per_noise_prob, label = \"Normal\")\n",
    "plt.plot(rotations, 0.8-np.max(policy_avg_return_all, axis=0), label = \"Noisy (best over noise widths)\")\n",
    "plt.plot(rotations, 0.8*np.ones(rotations.shape), label = \"Blind\")\n",
    "\n",
    "# plt.ylim(0, 0.8)\n",
    "plt.xlabel(\"Rotation\")\n",
    "plt.ylabel(\"Best Regret (Over Noise Widths)\")\n",
    "plt.legend()"
   ]
  },
  {
   "cell_type": "code",
   "execution_count": 15,
   "id": "f305ed09",
   "metadata": {},
   "outputs": [
    {
     "name": "stderr",
     "output_type": "stream",
     "text": [
      "100%|███████████████████████████████████████████████████████████| 468/468 [00:01<00:00, 299.23it/s]\n"
     ]
    },
    {
     "name": "stdout",
     "output_type": "stream",
     "text": [
      "train epoch: 1, loss: 0.0652\n"
     ]
    },
    {
     "name": "stderr",
     "output_type": "stream",
     "text": [
      "100%|███████████████████████████████████████████████████████████| 468/468 [00:01<00:00, 414.40it/s]\n"
     ]
    },
    {
     "name": "stdout",
     "output_type": "stream",
     "text": [
      "train epoch: 2, loss: 0.0105\n"
     ]
    },
    {
     "name": "stderr",
     "output_type": "stream",
     "text": [
      "100%|███████████████████████████████████████████████████████████| 468/468 [00:00<00:00, 475.92it/s]\n"
     ]
    },
    {
     "name": "stdout",
     "output_type": "stream",
     "text": [
      "train epoch: 3, loss: 0.0076\n"
     ]
    },
    {
     "name": "stderr",
     "output_type": "stream",
     "text": [
      "100%|███████████████████████████████████████████████████████████| 468/468 [00:01<00:00, 432.35it/s]\n"
     ]
    },
    {
     "name": "stdout",
     "output_type": "stream",
     "text": [
      "train epoch: 4, loss: 0.0067\n"
     ]
    },
    {
     "name": "stderr",
     "output_type": "stream",
     "text": [
      "100%|███████████████████████████████████████████████████████████| 468/468 [00:01<00:00, 451.19it/s]\n"
     ]
    },
    {
     "name": "stdout",
     "output_type": "stream",
     "text": [
      "train epoch: 5, loss: 0.0063\n"
     ]
    },
    {
     "name": "stderr",
     "output_type": "stream",
     "text": [
      "100%|███████████████████████████████████████████████████████████| 468/468 [00:01<00:00, 442.07it/s]\n"
     ]
    },
    {
     "name": "stdout",
     "output_type": "stream",
     "text": [
      "train epoch: 6, loss: 0.0060\n"
     ]
    },
    {
     "name": "stderr",
     "output_type": "stream",
     "text": [
      "100%|███████████████████████████████████████████████████████████| 468/468 [00:01<00:00, 455.15it/s]\n"
     ]
    },
    {
     "name": "stdout",
     "output_type": "stream",
     "text": [
      "train epoch: 7, loss: 0.0059\n"
     ]
    },
    {
     "name": "stderr",
     "output_type": "stream",
     "text": [
      "100%|███████████████████████████████████████████████████████████| 468/468 [00:00<00:00, 484.40it/s]\n"
     ]
    },
    {
     "name": "stdout",
     "output_type": "stream",
     "text": [
      "train epoch: 8, loss: 0.0058\n"
     ]
    },
    {
     "name": "stderr",
     "output_type": "stream",
     "text": [
      "100%|███████████████████████████████████████████████████████████| 468/468 [00:00<00:00, 495.69it/s]\n"
     ]
    },
    {
     "name": "stdout",
     "output_type": "stream",
     "text": [
      "train epoch: 9, loss: 0.0056\n"
     ]
    },
    {
     "name": "stderr",
     "output_type": "stream",
     "text": [
      "100%|███████████████████████████████████████████████████████████| 468/468 [00:00<00:00, 501.62it/s]"
     ]
    },
    {
     "name": "stdout",
     "output_type": "stream",
     "text": [
      "train epoch: 10, loss: 0.0056\n"
     ]
    },
    {
     "name": "stderr",
     "output_type": "stream",
     "text": [
      "\n"
     ]
    }
   ],
   "source": [
    "import scipy\n",
    "from train_final_layer import *\n",
    "\n",
    "noise_prob=0\n",
    "state2 = train(train_ds, test_ds, rotations, state[0].params, noise_prob)\n"
   ]
  },
  {
   "cell_type": "code",
   "execution_count": 16,
   "id": "39faaad3",
   "metadata": {},
   "outputs": [
    {
     "name": "stderr",
     "output_type": "stream",
     "text": [
      "/tmp/ipykernel_2697064/1081039361.py:12: FutureWarning: Unlike other reduction functions (e.g. `skew`, `kurtosis`), the default behavior of `mode` typically preserves the axis it acts along. In SciPy 1.11.0, this behavior will change: the default value of `keepdims` will become False, the `axis` over which the statistic is taken will be eliminated, and the value None will no longer be accepted. Set `keepdims` to True or False to avoid this warning.\n",
      "  digit_best_action = scipy.stats.mode(jnp.asarray(best_actions)[np.where(test_ds['label']==digit)]).mode[0]\n"
     ]
    },
    {
     "data": {
      "text/plain": [
       "Text(0.5, 1.0, 'Policy Noise Prob: 0')"
      ]
     },
     "execution_count": 16,
     "metadata": {},
     "output_type": "execute_result"
    },
    {
     "data": {
      "image/png": "[encoded data removed]",
      "text/plain": [
       "<Figure size 640x480 with 1 Axes>"
      ]
     },
     "metadata": {},
     "output_type": "display_data"
    }
   ],
   "source": [
    "digits = [_ for _ in range(10)]\n",
    "\n",
    "all_best_actions = []\n",
    "for i in range(len(rotations)):\n",
    "    rotation = rotations[i]\n",
    "    qs, z = get_model_outputs(rng, state2, test_ds['image'+str(rotation)], test_ds['label'], noise_prob)\n",
    "    \n",
    "    best_actions = jnp.argmax(jnp.mean(qs, axis=0), axis=1)\n",
    "    \n",
    "    digit_best_actions = []\n",
    "    for digit in digits:\n",
    "        digit_best_action = scipy.stats.mode(jnp.asarray(best_actions)[np.where(test_ds['label']==digit)]).mode[0]\n",
    "        digit_best_actions.append(digit_best_action)\n",
    "        \n",
    "    all_best_actions.append(digit_best_actions)\n",
    "\n",
    "all_best_actions = np.array(all_best_actions)\n",
    "\n",
    "discretized_a1s = (np.expand_dims(np.array([_ for _ in range(10)]), axis=1)*np.ones([10, 5])).flatten()\n",
    "discretized_a2s = (np.expand_dims(np.array([0.2*_ for _ in range(5)]), axis=0)*np.ones([10, 5])).flatten()\n",
    "\n",
    "theta = (discretized_a1s[all_best_actions]-5.0)/5*(np.pi/2)\n",
    "theta = np.transpose(theta)\n",
    "U = np.sin(theta)* np.transpose(discretized_a2s[all_best_actions])\n",
    "V = np.cos(theta)* np.transpose(discretized_a2s[all_best_actions])\n",
    "X,Y = np.meshgrid(rotations, digits)\n",
    "plt.quiver(Y,X,U,V)\n",
    "plt.xlabel(\"Digit\")\n",
    "plt.ylabel(\"Rotation\")\n",
    "plt.title(\"Policy Noise Prob: \"+str(noise_prob))  "
   ]
  },
  {
   "cell_type": "code",
   "execution_count": 24,
   "id": "0698fbdb",
   "metadata": {},
   "outputs": [
    {
     "name": "stdout",
     "output_type": "stream",
     "text": [
      "0 loss : 0.0584, return: 0.6247\n",
      "15 loss : 0.0777, return: 0.5766\n",
      "30 loss : 0.1740, return: 0.3898\n",
      "45 loss : 0.3815, return: 0.1079\n",
      "60 loss : 0.6079, return: -0.1250\n",
      "75 loss : 0.7263, return: -0.2393\n"
     ]
    }
   ],
   "source": [
    "    for rotation in rotations:\n",
    "        rng, input_rng = jax.random.split(rng)\n",
    "        test_loss, policy_avg_return = evaluate_model(input_rng, state2, test_ds['image'+str(rotation)], test_ds['label'], noise_prob)\n",
    "        print('%d loss : %.4f, return: %.4f' % (rotation, test_loss, policy_avg_return))"
   ]
  },
  {
   "cell_type": "code",
   "execution_count": null,
   "id": "eb999cda",
   "metadata": {},
   "outputs": [],
   "source": []
  }
 ],
 "metadata": {
  "kernelspec": {
   "display_name": "Python 3 (ipykernel)",
   "language": "python",
   "name": "python3"
  },
  "language_info": {
   "codemirror_mode": {
    "name": "ipython",
    "version": 3
   },
   "file_extension": ".py",
   "mimetype": "text/x-python",
   "name": "python",
   "nbconvert_exporter": "python",
   "pygments_lexer": "ipython3",
   "version": "3.10.4"
  }
 },
 "nbformat": 4,
 "nbformat_minor": 5
}
